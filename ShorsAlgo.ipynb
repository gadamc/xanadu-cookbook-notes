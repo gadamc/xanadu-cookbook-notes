{
 "cells": [
  {
   "cell_type": "code",
   "execution_count": 55,
   "id": "0fc07aee-d92b-4b3a-9f2c-a9fc163d5d50",
   "metadata": {},
   "outputs": [],
   "source": [
    "from pennylane import numpy as np\n",
    "import math"
   ]
  },
  {
   "cell_type": "code",
   "execution_count": 56,
   "id": "fc9daf17-21e0-49cb-aea0-53cbbf5c4563",
   "metadata": {},
   "outputs": [],
   "source": [
    "def is_equivalent(a, b, m):\n",
    "    \"\"\"Return a boolean indicating whether the equivalence is satisfied.\n",
    "\n",
    "    Args:\n",
    "        a (int): First number to check the equivalence.\n",
    "        b (int): Second number to check the equivalence.\n",
    "        m (int): Modulus of the equivalence.\n",
    "    \n",
    "    Returns:\n",
    "        bool: True if a = b (m), False otherwise.\n",
    "    \"\"\"\n",
    "    \n",
    "    ##################\n",
    "    # YOUR CODE HERE #\n",
    "    ##################\n",
    "    diff = np.abs(a - b)\n",
    "    \n",
    "    if diff == 0:\n",
    "        return True\n",
    "    \n",
    "    while diff > 0:\n",
    "        if diff == m:\n",
    "            return True\n",
    "        diff -= m\n",
    "    \n",
    "    return False\n",
    "\n",
    "#One way to do this is to check that the remainder of dividing `(a − b)` by `m` \n",
    "#is equal to 0, which is the definition we presented above. We can also understand \n",
    "#that two numbers are equivalent modulo `m` if when dividing them each by `m`, \n",
    "#the remainders we obtain are the same.\n",
    "\n",
    "def remainder(x, m):\n",
    "    v = x / m\n",
    "    r = v - int(v)\n",
    "    return r\n",
    "\n",
    "def is_equivalent2(a, b, m):\n",
    "    diff = np.abs(a - b)\n",
    "    return remainder(diff, m) == 0\n",
    "\n",
    "def is_equivalent3(a, b, m):\n",
    "    return math.isclose(remainder(a, m),remainder(b, m)) "
   ]
  },
  {
   "cell_type": "code",
   "execution_count": 57,
   "id": "d6a3fc22-d13e-405d-96a0-7f4158208513",
   "metadata": {},
   "outputs": [
    {
     "data": {
      "text/plain": [
       "False"
      ]
     },
     "execution_count": 57,
     "metadata": {},
     "output_type": "execute_result"
    }
   ],
   "source": [
    "remainder(111,5) == 0"
   ]
  },
  {
   "cell_type": "code",
   "execution_count": 58,
   "id": "05c46be5-663e-4bdb-97c1-32ee5c8368df",
   "metadata": {},
   "outputs": [
    {
     "data": {
      "text/plain": [
       "True"
      ]
     },
     "execution_count": 58,
     "metadata": {},
     "output_type": "execute_result"
    }
   ],
   "source": [
    "is_equivalent2(13,3,5)"
   ]
  },
  {
   "cell_type": "code",
   "execution_count": 59,
   "id": "cb3eebb7-68e7-45b4-a3e4-1652c8fed6ed",
   "metadata": {},
   "outputs": [
    {
     "data": {
      "text/plain": [
       "0.6"
      ]
     },
     "execution_count": 59,
     "metadata": {},
     "output_type": "execute_result"
    }
   ],
   "source": [
    "remainder(3,5)"
   ]
  },
  {
   "cell_type": "code",
   "execution_count": 60,
   "id": "cff6f593-5ac7-4ea8-9ed3-b2447acfe3ff",
   "metadata": {},
   "outputs": [
    {
     "data": {
      "text/plain": [
       "0.6000000000000001"
      ]
     },
     "execution_count": 60,
     "metadata": {},
     "output_type": "execute_result"
    }
   ],
   "source": [
    "remainder(13,5)"
   ]
  },
  {
   "cell_type": "code",
   "execution_count": 61,
   "id": "377f78b0-81b0-491c-8b99-0645e560bf0b",
   "metadata": {},
   "outputs": [
    {
     "data": {
      "text/plain": [
       "True"
      ]
     },
     "execution_count": 61,
     "metadata": {},
     "output_type": "execute_result"
    }
   ],
   "source": [
    "is_equivalent3(13,3,5)"
   ]
  },
  {
   "cell_type": "code",
   "execution_count": 28,
   "id": "ce7cb836-560c-4f52-93bc-0929947ef96e",
   "metadata": {},
   "outputs": [
    {
     "data": {
      "text/plain": [
       "True"
      ]
     },
     "execution_count": 28,
     "metadata": {},
     "output_type": "execute_result"
    }
   ],
   "source": [
    "is_equivalent(107, 37, 10)"
   ]
  },
  {
   "cell_type": "code",
   "execution_count": 73,
   "id": "932e3401-c96b-4456-88c3-6c148d3fbc87",
   "metadata": {},
   "outputs": [],
   "source": [
    "def has_inverse(a, m):\n",
    "    \"\"\"Returns a boolean indicating whether a number has an inverse modulo m.\n",
    "    \n",
    "    Args:\n",
    "        a (int): Number to find the inverse modulus m.\n",
    "        m (int): Modulus of the equivalence.\n",
    "\n",
    "    Returns:\n",
    "        bool: True if c exists (ac = 1 (m)), False otherwise    \n",
    "    \"\"\"\n",
    "    \n",
    "    ##################\n",
    "    # YOUR CODE HERE #\n",
    "    ##################\n",
    "    c = 1\n",
    "    while c < m:\n",
    "        #print(f'a {a}, c {c}, m {m}')\n",
    "        \n",
    "        #print(f'remainder {remainder(a*c - 1, m)}')\n",
    "        if is_equivalent(a*c, 1, m):\n",
    "            return True\n",
    "        c+=1\n",
    "    return False\n",
    "    \n",
    "    \n",
    "def return_inverse(a, m):\n",
    "    \"\"\"Returns a boolean indicating whether a number has an inverse modulo m.\n",
    "    \n",
    "    Args:\n",
    "        a (int): Number to find the inverse modulus m.\n",
    "        m (int): Modulus of the equivalence.\n",
    "\n",
    "    Returns:\n",
    "        bool: True if c exists (ac = 1 (m)), False otherwise    \n",
    "    \"\"\"\n",
    "    \n",
    "    ##################\n",
    "    # YOUR CODE HERE #\n",
    "    ##################\n",
    "    c = 1\n",
    "    while c < m:\n",
    "        #print(f'a {a}, c {c}, m {m}')\n",
    "        \n",
    "        #print(f'remainder {remainder(a*c - 1, m)}')\n",
    "        if is_equivalent(a*c, 1, m):\n",
    "            return c\n",
    "        c+=1\n",
    "    return 0\n",
    "    \n",
    "    "
   ]
  },
  {
   "cell_type": "code",
   "execution_count": 70,
   "id": "130d6011-cc7c-4114-b1fc-5aa235c05b17",
   "metadata": {},
   "outputs": [
    {
     "name": "stdout",
     "output_type": "stream",
     "text": [
      "(5,15) False\n",
      "(7,15) True\n"
     ]
    }
   ],
   "source": [
    "    \n",
    "print(\"(5,15)\", has_inverse(5,15))\n",
    "print(\"(7,15)\", has_inverse(7,15))"
   ]
  },
  {
   "cell_type": "code",
   "execution_count": 78,
   "id": "427fc26a-73cd-48d1-bc20-9c26f1e44cee",
   "metadata": {},
   "outputs": [
    {
     "data": {
      "text/plain": [
       "13"
      ]
     },
     "execution_count": 78,
     "metadata": {},
     "output_type": "execute_result"
    }
   ],
   "source": [
    "return_inverse(7,15)"
   ]
  },
  {
   "cell_type": "markdown",
   "id": "258f0b05-50db-44ba-b17f-8ffd91b91fbc",
   "metadata": {},
   "source": [
    "# S2"
   ]
  },
  {
   "cell_type": "code",
   "execution_count": 81,
   "id": "3a9cc737-fdd1-4093-881b-ff32ced666fd",
   "metadata": {},
   "outputs": [],
   "source": [
    "def nontrivial_square_root(m):\n",
    "    \"\"\"Return the first nontrivial square root modulo m.\n",
    "    \n",
    "    Args:\n",
    "        m (int): modulus for which want to find the nontrivial square root\n",
    "\n",
    "    Returns:\n",
    "        int: the first nontrivial square root of m\n",
    "    \"\"\"\n",
    "    \n",
    "    ##################\n",
    "    # YOUR CODE HERE #\n",
    "    ##################\n",
    "    for x in range(2, m):\n",
    "        if x**2 % m == 1:\n",
    "            return x\n",
    "            \n",
    "    return -1\n"
   ]
  },
  {
   "cell_type": "code",
   "execution_count": 101,
   "id": "c93ce333-7bb3-4c37-92c3-e4e01179cf9a",
   "metadata": {},
   "outputs": [
    {
     "name": "stdout",
     "output_type": "stream",
     "text": [
      "261\n"
     ]
    }
   ],
   "source": [
    "print(nontrivial_square_root(131*5))"
   ]
  },
  {
   "cell_type": "code",
   "execution_count": 103,
   "id": "35d5c234-5f7f-48c4-bb6d-69f95e89af54",
   "metadata": {},
   "outputs": [
    {
     "data": {
      "text/plain": [
       "137"
      ]
     },
     "execution_count": 103,
     "metadata": {},
     "output_type": "execute_result"
    }
   ],
   "source": [
    "nontrivial_square_root(391)"
   ]
  },
  {
   "cell_type": "code",
   "execution_count": 107,
   "id": "f220cac5-d6e6-47ab-92ec-8a2b0cc3f8f9",
   "metadata": {},
   "outputs": [
    {
     "data": {
      "text/plain": [
       "33"
      ]
     },
     "execution_count": 107,
     "metadata": {},
     "output_type": "execute_result"
    }
   ],
   "source": [
    "nontrivial_square_root(136)"
   ]
  },
  {
   "cell_type": "code",
   "execution_count": 108,
   "id": "9f949cef-e9b8-4593-8ed6-34bc6719d944",
   "metadata": {},
   "outputs": [
    {
     "data": {
      "text/plain": [
       "15"
      ]
     },
     "execution_count": 108,
     "metadata": {},
     "output_type": "execute_result"
    }
   ],
   "source": [
    "nontrivial_square_root(32)"
   ]
  },
  {
   "cell_type": "code",
   "execution_count": 109,
   "id": "25e0242e-d14e-4dec-9531-4cfa3b035a11",
   "metadata": {},
   "outputs": [
    {
     "data": {
      "text/plain": [
       "4"
      ]
     },
     "execution_count": 109,
     "metadata": {},
     "output_type": "execute_result"
    }
   ],
   "source": [
    "nontrivial_square_root(15)"
   ]
  },
  {
   "cell_type": "code",
   "execution_count": 112,
   "id": "f5486aa7-5240-413c-878e-818085c825b7",
   "metadata": {},
   "outputs": [],
   "source": [
    "def gcd(a,b):\n",
    "        if a == b:\n",
    "            return a\n",
    "        if a > b:\n",
    "            return gcd(a - b, b)\n",
    "        else:\n",
    "            return gcd(a, b - a)"
   ]
  },
  {
   "cell_type": "code",
   "execution_count": 114,
   "id": "67269341-9528-460b-a357-958ffd242cb4",
   "metadata": {},
   "outputs": [
    {
     "data": {
      "text/plain": [
       "17"
      ]
     },
     "execution_count": 114,
     "metadata": {},
     "output_type": "execute_result"
    }
   ],
   "source": [
    "gcd(391,136)"
   ]
  },
  {
   "cell_type": "code",
   "execution_count": 115,
   "id": "98b638d4-985e-48e3-9661-d648132488bf",
   "metadata": {},
   "outputs": [
    {
     "data": {
      "text/plain": [
       "23"
      ]
     },
     "execution_count": 115,
     "metadata": {},
     "output_type": "execute_result"
    }
   ],
   "source": [
    "gcd(391,138)"
   ]
  },
  {
   "cell_type": "code",
   "execution_count": 116,
   "id": "a9b22299-b8a1-49b3-a4d9-c8fc286b2fe0",
   "metadata": {},
   "outputs": [
    {
     "data": {
      "text/plain": [
       "391"
      ]
     },
     "execution_count": 116,
     "metadata": {},
     "output_type": "execute_result"
    }
   ],
   "source": [
    "17*23"
   ]
  },
  {
   "cell_type": "code",
   "execution_count": 117,
   "id": "eafcfae4-073e-45b6-baca-ff2e169deea3",
   "metadata": {},
   "outputs": [
    {
     "name": "stdout",
     "output_type": "stream",
     "text": [
      "391 = 17 x 23\n"
     ]
    }
   ],
   "source": [
    " \n",
    "def factorization(N):\n",
    "    \n",
    "    \"\"\"Return the factors of N.\n",
    "    \n",
    "    Args:\n",
    "        N (int): number we want to factor.\n",
    "\n",
    "    Returns:\n",
    "        array[int]: [p,q] factors of N.\n",
    "    \"\"\"\n",
    "    ##################\n",
    "    # YOUR CODE HERE #\n",
    "    ##################\n",
    "    ntsr = nontrivial_square_root(N)\n",
    "    xneg = ntsr - 1\n",
    "    xpos = ntsr + 1\n",
    "    \n",
    "    def gcd(a,b):\n",
    "        if a == b:\n",
    "            return a\n",
    "        if a > b:\n",
    "            return gcd(a - b, b)\n",
    "        else:\n",
    "            return gcd(a, b - a)\n",
    "    \n",
    "    p = gcd(xneg, N)\n",
    "    q = gcd(xpos, N)\n",
    "\n",
    "    return [p,q]\n",
    "\n",
    "N = 391\n",
    "p, q = factorization(N)\n",
    "print(f\"{N} = {p} x {q}\")"
   ]
  },
  {
   "cell_type": "markdown",
   "id": "473e2fdf-7a06-4c44-8c75-207f5d4e7483",
   "metadata": {},
   "source": [
    "# S3"
   ]
  },
  {
   "cell_type": "code",
   "execution_count": 118,
   "id": "74c02a9d-d729-4b4c-95ca-908d6507679c",
   "metadata": {},
   "outputs": [
    {
     "ename": "NameError",
     "evalue": "name 'get_unitary_matrix' is not defined",
     "output_type": "error",
     "traceback": [
      "\u001b[0;31m---------------------------------------------------------------------------\u001b[0m",
      "\u001b[0;31mNameError\u001b[0m                                 Traceback (most recent call last)",
      "\u001b[0;32m/var/folders/lj/tnjgtdfx2_s4ql_skr36436cf7_p5z/T/ipykernel_84676/920615047.py\u001b[0m in \u001b[0;36m<module>\u001b[0;34m\u001b[0m\n\u001b[1;32m      6\u001b[0m         \u001b[0mqml\u001b[0m\u001b[0;34m.\u001b[0m\u001b[0mPauliX\u001b[0m\u001b[0;34m(\u001b[0m\u001b[0mwires\u001b[0m\u001b[0;34m=\u001b[0m\u001b[0mi\u001b[0m\u001b[0;34m)\u001b[0m\u001b[0;34m\u001b[0m\u001b[0;34m\u001b[0m\u001b[0m\n\u001b[1;32m      7\u001b[0m \u001b[0;34m\u001b[0m\u001b[0m\n\u001b[0;32m----> 8\u001b[0;31m \u001b[0mmatrix\u001b[0m \u001b[0;34m=\u001b[0m \u001b[0mget_unitary_matrix\u001b[0m\u001b[0;34m(\u001b[0m\u001b[0mU\u001b[0m\u001b[0;34m,\u001b[0m \u001b[0mwire_order\u001b[0m\u001b[0;34m=\u001b[0m\u001b[0mrange\u001b[0m\u001b[0;34m(\u001b[0m\u001b[0;36m4\u001b[0m\u001b[0;34m)\u001b[0m\u001b[0;34m)\u001b[0m\u001b[0;34m(\u001b[0m\u001b[0;34m)\u001b[0m\u001b[0;34m\u001b[0m\u001b[0;34m\u001b[0m\u001b[0m\n\u001b[0m\u001b[1;32m      9\u001b[0m \u001b[0;34m\u001b[0m\u001b[0m\n\u001b[1;32m     10\u001b[0m \u001b[0mn_target_wires\u001b[0m \u001b[0;34m=\u001b[0m \u001b[0;36m4\u001b[0m\u001b[0;34m\u001b[0m\u001b[0;34m\u001b[0m\u001b[0m\n",
      "\u001b[0;31mNameError\u001b[0m: name 'get_unitary_matrix' is not defined"
     ]
    }
   ],
   "source": [
    "def U():\n",
    "    qml.SWAP(wires=[2,3])\n",
    "    qml.SWAP(wires=[1,2])\n",
    "    qml.SWAP(wires=[0,1])\n",
    "    for i in range(4):\n",
    "        qml.PauliX(wires=i)\n",
    "\n",
    "matrix = get_unitary_matrix(U, wire_order=range(4))()\n",
    "\n",
    "n_target_wires = 4\n",
    "target_wires = range(n_target_wires)\n",
    "n_estimation_wires = 3\n",
    "estimation_wires = range(4, 4 + n_estimation_wires)\n",
    "\n",
    "\n",
    "dev = qml.device(\"default.qubit\", shots=1, wires=n_target_wires+n_estimation_wires)\n",
    "\n",
    "@qml.qnode(dev)\n",
    "def circuit(matrix):\n",
    "    \"\"\"Return a sample after taking a shot at the estimation wires.\n",
    "    \n",
    "    Args:\n",
    "        matrix (array[complex]): matrix representation of U.\n",
    "\n",
    "    Returns:\n",
    "        array[float]: a sample after taking a shot at the estimation wires.\n",
    "    \"\"\"\n",
    "    \n",
    "    ##################\n",
    "    # YOUR CODE HERE #\n",
    "    ##################\n",
    "    \n",
    "    # CREATE THE INITIAL STATE |0001> ON TARGET WIRES\n",
    "    qml.PauliX(0)\n",
    "   \n",
    "    # USE THE SUBROUTINE QUANTUM PHASE ESTIMATION\n",
    "    qml.QuantumPhaseEstimation(matrix, target_wires, estimation_wires)\n",
    "    return qml.sample(wires=estimation_wires)\n",
    "\n",
    "def get_phase(matrix):\n",
    "    binary = \"\".join([str(b) for b in circuit(matrix)])\n",
    "    return int(binary, 2) / 2 ** n_estimation_wires\n",
    "\n",
    "for i in range(5):\n",
    "    print(circuit(matrix))\n",
    "    print(f\"shot {i+1}, phase:\",get_phase(matrix))\n"
   ]
  },
  {
   "cell_type": "code",
   "execution_count": null,
   "id": "d311f343-18d4-4384-8956-4a93f38ab526",
   "metadata": {},
   "outputs": [],
   "source": []
  }
 ],
 "metadata": {
  "kernelspec": {
   "display_name": "Python 3 (ipykernel)",
   "language": "python",
   "name": "python3"
  },
  "language_info": {
   "codemirror_mode": {
    "name": "ipython",
    "version": 3
   },
   "file_extension": ".py",
   "mimetype": "text/x-python",
   "name": "python",
   "nbconvert_exporter": "python",
   "pygments_lexer": "ipython3",
   "version": "3.9.7"
  }
 },
 "nbformat": 4,
 "nbformat_minor": 5
}
