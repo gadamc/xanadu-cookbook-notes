{
 "cells": [
  {
   "cell_type": "code",
   "execution_count": 1,
   "id": "d82524c6-da42-4d8f-9f2a-0847d4cf5ca0",
   "metadata": {},
   "outputs": [],
   "source": [
    "from pennylane import numpy as np"
   ]
  },
  {
   "cell_type": "code",
   "execution_count": 2,
   "id": "31f6a308-0da8-405e-8d12-202afb220173",
   "metadata": {},
   "outputs": [],
   "source": [
    "state = np.array([1j/np.sqrt(2), 1/np.sqrt(2)])"
   ]
  },
  {
   "cell_type": "code",
   "execution_count": 83,
   "id": "1f1f2c8a-870f-4ec5-af9d-3c417547a696",
   "metadata": {},
   "outputs": [
    {
     "data": {
      "text/plain": [
       "tensor([0.        +0.70710678j, 0.70710678+0.j        ], requires_grad=True)"
      ]
     },
     "execution_count": 83,
     "metadata": {},
     "output_type": "execute_result"
    }
   ],
   "source": [
    "state"
   ]
  },
  {
   "cell_type": "code",
   "execution_count": 84,
   "id": "6f89a3c3-76f7-446b-adc8-8f2c21a5205e",
   "metadata": {},
   "outputs": [
    {
     "data": {
      "text/plain": [
       "tensor([-0.5+0.j,  0.5+0.j], requires_grad=True)"
      ]
     },
     "execution_count": 84,
     "metadata": {},
     "output_type": "execute_result"
    }
   ],
   "source": [
    "state**2"
   ]
  },
  {
   "cell_type": "code",
   "execution_count": 85,
   "id": "afe78544-6c49-45e8-9b8d-f9a3b2f3c1e0",
   "metadata": {},
   "outputs": [
    {
     "data": {
      "text/plain": [
       "tensor([0.5, 0.5], requires_grad=True)"
      ]
     },
     "execution_count": 85,
     "metadata": {},
     "output_type": "execute_result"
    }
   ],
   "source": [
    "np.real(np.conj(state)*state)"
   ]
  },
  {
   "cell_type": "code",
   "execution_count": 86,
   "id": "ffd834bd-1c0b-497e-a0e6-b454d0b5b7d0",
   "metadata": {},
   "outputs": [
    {
     "data": {
      "text/plain": [
       "tensor([0.        -0.70710678j, 0.70710678-0.j        ], requires_grad=True)"
      ]
     },
     "execution_count": 86,
     "metadata": {},
     "output_type": "execute_result"
    }
   ],
   "source": [
    "np.conj(state)"
   ]
  },
  {
   "cell_type": "code",
   "execution_count": 87,
   "id": "f70949a4-c6f6-4730-b3c7-f7a854919092",
   "metadata": {},
   "outputs": [],
   "source": [
    "num_meas = 100"
   ]
  },
  {
   "cell_type": "code",
   "execution_count": 88,
   "id": "5411b61b-1b6e-4b4f-8ad2-7c21d238f19a",
   "metadata": {},
   "outputs": [
    {
     "data": {
      "text/plain": [
       "tensor([1, 1, 1, 0, 1, 0, 0, 0, 0, 1, 0, 0, 1, 0, 0, 1, 0, 1, 1, 0, 1, 0,\n",
       "        0, 0, 1, 0, 1, 1, 1, 1, 0, 1, 1, 0, 0, 0, 0, 0, 0, 1, 0, 0, 1, 1,\n",
       "        1, 1, 0, 1, 0, 1, 0, 1, 1, 0, 0, 0, 1, 1, 0, 0, 0, 1, 0, 0, 0, 1,\n",
       "        0, 1, 1, 1, 0, 1, 1, 0, 1, 1, 0, 0, 0, 0, 1, 0, 1, 1, 1, 1, 1, 1,\n",
       "        1, 1, 0, 1, 0, 0, 1, 0, 1, 0, 0, 1], requires_grad=True)"
      ]
     },
     "execution_count": 88,
     "metadata": {},
     "output_type": "execute_result"
    }
   ],
   "source": [
    "np.random.choice([0,1], size = num_meas, p = np.real(np.conj(state)*state))\n"
   ]
  },
  {
   "cell_type": "code",
   "execution_count": 89,
   "id": "a224c71b-bc56-4ac2-9c4b-d0c23d47affb",
   "metadata": {},
   "outputs": [
    {
     "name": "stdout",
     "output_type": "stream",
     "text": [
      "0.51\n",
      "0.49\n",
      "0.57\n",
      "0.47\n",
      "0.58\n",
      "0.5\n",
      "0.54\n",
      "0.57\n",
      "0.48\n",
      "0.44\n"
     ]
    }
   ],
   "source": [
    "for i in range(10):\n",
    "    print(np.mean(np.random.choice([0,1], size = num_meas, p = np.real(np.conj(state)*state))))"
   ]
  },
  {
   "cell_type": "code",
   "execution_count": 71,
   "id": "3a746874-9f09-4acf-930c-09fcd491d841",
   "metadata": {},
   "outputs": [],
   "source": [
    "state = np.array([.5j, .5])"
   ]
  },
  {
   "cell_type": "code",
   "execution_count": 72,
   "id": "e67c8421-ecda-47b5-a2ac-511877b3c406",
   "metadata": {},
   "outputs": [
    {
     "data": {
      "text/plain": [
       "0.7071067811865476"
      ]
     },
     "execution_count": 72,
     "metadata": {},
     "output_type": "execute_result"
    }
   ],
   "source": [
    "np.sqrt(np.inner(np.conj(state),state).real)"
   ]
  },
  {
   "cell_type": "code",
   "execution_count": 73,
   "id": "e88eb01b-394c-4457-8c1e-8faaa4bf0c17",
   "metadata": {},
   "outputs": [],
   "source": [
    "norm = np.sqrt(np.inner(np.conj(state),state).real)"
   ]
  },
  {
   "cell_type": "code",
   "execution_count": 74,
   "id": "d741dbbd-49a2-4fb8-bc41-495a9346a4a1",
   "metadata": {},
   "outputs": [],
   "source": [
    "state = state/norm"
   ]
  },
  {
   "cell_type": "code",
   "execution_count": 75,
   "id": "5983639b-a8eb-49b1-b1ab-f5b7534b79f5",
   "metadata": {},
   "outputs": [
    {
     "data": {
      "text/plain": [
       "tensor([0.        +0.70710678j, 0.70710678+0.j        ], requires_grad=True)"
      ]
     },
     "execution_count": 75,
     "metadata": {},
     "output_type": "execute_result"
    }
   ],
   "source": [
    "state"
   ]
  },
  {
   "cell_type": "code",
   "execution_count": 76,
   "id": "3da22f55-8403-4a4b-8bb8-f035cb608ef5",
   "metadata": {},
   "outputs": [
    {
     "data": {
      "text/plain": [
       "0.9999999999999999"
      ]
     },
     "execution_count": 76,
     "metadata": {},
     "output_type": "execute_result"
    }
   ],
   "source": [
    "np.sqrt(np.inner(np.conj(state),state).real)"
   ]
  },
  {
   "cell_type": "code",
   "execution_count": 77,
   "id": "e511c55a-0a44-4aa0-a4c7-ec760ce3c476",
   "metadata": {},
   "outputs": [
    {
     "data": {
      "text/plain": [
       "tensor(0.5+0.j, requires_grad=True)"
      ]
     },
     "execution_count": 77,
     "metadata": {},
     "output_type": "execute_result"
    }
   ],
   "source": [
    "np.conj(state[0])*state[0]"
   ]
  },
  {
   "cell_type": "code",
   "execution_count": 78,
   "id": "19e7b618-949c-4b09-b710-3a7628117084",
   "metadata": {},
   "outputs": [
    {
     "data": {
      "text/plain": [
       "tensor(0.5+0.j, requires_grad=True)"
      ]
     },
     "execution_count": 78,
     "metadata": {},
     "output_type": "execute_result"
    }
   ],
   "source": [
    "np.conj(state[1])*state[1]"
   ]
  },
  {
   "cell_type": "code",
   "execution_count": 79,
   "id": "f6d31b90-cad7-4406-9b0d-edc269083b64",
   "metadata": {},
   "outputs": [
    {
     "data": {
      "text/plain": [
       "tensor([0.5, 0.5], requires_grad=True)"
      ]
     },
     "execution_count": 79,
     "metadata": {},
     "output_type": "execute_result"
    }
   ],
   "source": [
    "np.real(np.conj(state)*state)"
   ]
  },
  {
   "cell_type": "code",
   "execution_count": 80,
   "id": "a9d6e9e2-58a8-45bc-b59d-2c7d6abe9560",
   "metadata": {},
   "outputs": [
    {
     "data": {
      "text/plain": [
       "tensor([0.        +0.70710678j, 0.70710678+0.j        ], requires_grad=True)"
      ]
     },
     "execution_count": 80,
     "metadata": {},
     "output_type": "execute_result"
    }
   ],
   "source": [
    "state"
   ]
  },
  {
   "cell_type": "code",
   "execution_count": 81,
   "id": "713c5a0c-da6a-4d21-b85b-d5075cc954a7",
   "metadata": {},
   "outputs": [
    {
     "data": {
      "text/plain": [
       "tensor([0, 1, 0, 1, 0, 0, 0, 0, 1, 0, 0, 0, 0, 1, 0, 1, 0, 1, 1, 0, 1, 0,\n",
       "        0, 1, 0, 0, 0, 0, 1, 0, 1, 0, 0, 1, 1, 0, 1, 0, 1, 1, 1, 0, 1, 0,\n",
       "        0, 0, 0, 1, 1, 1, 0, 0, 1, 1, 1, 1, 0, 0, 0, 1, 0, 1, 0, 1, 1, 0,\n",
       "        1, 1, 0, 1, 1, 1, 0, 0, 1, 1, 0, 0, 1, 0, 1, 0, 0, 1, 1, 1, 1, 0,\n",
       "        1, 1, 1, 0, 1, 0, 1, 1, 1, 1, 1, 0], requires_grad=True)"
      ]
     },
     "execution_count": 81,
     "metadata": {},
     "output_type": "execute_result"
    }
   ],
   "source": [
    "np.random.choice([0,1], size = num_meas, p = np.real(np.conj(state)*state))\n"
   ]
  },
  {
   "cell_type": "code",
   "execution_count": 82,
   "id": "962fe1a9-b8c3-4144-9e1b-a800475d1715",
   "metadata": {},
   "outputs": [
    {
     "name": "stdout",
     "output_type": "stream",
     "text": [
      "0.5\n",
      "0.53\n",
      "0.44\n",
      "0.58\n",
      "0.47\n",
      "0.53\n",
      "0.45\n",
      "0.5\n",
      "0.59\n",
      "0.43\n"
     ]
    }
   ],
   "source": [
    "for i in range(10):\n",
    "    print(np.mean(np.random.choice([0,1], size = num_meas, p = np.real(np.conj(state)*state))))"
   ]
  },
  {
   "cell_type": "code",
   "execution_count": 105,
   "id": "6621bba3-40ed-404e-be14-2add09976f04",
   "metadata": {},
   "outputs": [],
   "source": [
    "num_meas = 500"
   ]
  },
  {
   "cell_type": "code",
   "execution_count": 106,
   "id": "9c777bed-b9cb-48ea-995f-6f717bcecd1f",
   "metadata": {},
   "outputs": [],
   "source": [
    "measures = np.random.choice(list(range(len(state))), size = num_meas, p = np.real(np.conj(state)*state))"
   ]
  },
  {
   "cell_type": "code",
   "execution_count": 107,
   "id": "bc9000a8-92c5-4e78-bce3-d5387de80db8",
   "metadata": {},
   "outputs": [
    {
     "data": {
      "text/plain": [
       "tensor(0.528, requires_grad=True)"
      ]
     },
     "execution_count": 107,
     "metadata": {},
     "output_type": "execute_result"
    }
   ],
   "source": [
    "np.mean(measures)"
   ]
  },
  {
   "cell_type": "code",
   "execution_count": 108,
   "id": "69ab1908-fff5-4218-a470-011c629f070c",
   "metadata": {},
   "outputs": [],
   "source": [
    "U = np.array([[1, 1], [1, -1]]) / np.sqrt(2)"
   ]
  },
  {
   "cell_type": "code",
   "execution_count": 109,
   "id": "e107a5bd-8783-4041-934c-815ef3ad3689",
   "metadata": {},
   "outputs": [
    {
     "data": {
      "text/plain": [
       "tensor([ 0.5+0.5j, -0.5+0.5j], requires_grad=True)"
      ]
     },
     "execution_count": 109,
     "metadata": {},
     "output_type": "execute_result"
    }
   ],
   "source": [
    "np.matmul(U, state)"
   ]
  },
  {
   "cell_type": "code",
   "execution_count": 110,
   "id": "3f724a0a-297b-4f4b-9221-362697124d18",
   "metadata": {},
   "outputs": [
    {
     "data": {
      "text/plain": [
       "tensor([0.        +0.70710678j, 0.70710678+0.j        ], requires_grad=True)"
      ]
     },
     "execution_count": 110,
     "metadata": {},
     "output_type": "execute_result"
    }
   ],
   "source": [
    "state"
   ]
  },
  {
   "cell_type": "code",
   "execution_count": 111,
   "id": "aaf90029-c8f9-4032-a876-03d8ade118f7",
   "metadata": {},
   "outputs": [],
   "source": [
    "state = np.array([1,0])"
   ]
  },
  {
   "cell_type": "code",
   "execution_count": 112,
   "id": "3fbbef2e-a690-4704-9a27-2e97946ceb77",
   "metadata": {},
   "outputs": [
    {
     "data": {
      "text/plain": [
       "tensor([1, 0], requires_grad=True)"
      ]
     },
     "execution_count": 112,
     "metadata": {},
     "output_type": "execute_result"
    }
   ],
   "source": [
    "state"
   ]
  },
  {
   "cell_type": "code",
   "execution_count": 113,
   "id": "02f01fd9-313a-49b8-80a7-fd3f6b1f7c86",
   "metadata": {},
   "outputs": [
    {
     "data": {
      "text/plain": [
       "tensor([0.70710678, 0.70710678], requires_grad=True)"
      ]
     },
     "execution_count": 113,
     "metadata": {},
     "output_type": "execute_result"
    }
   ],
   "source": [
    "np.matmul(U, state)"
   ]
  },
  {
   "cell_type": "code",
   "execution_count": 114,
   "id": "653b9acc-06eb-493a-9d62-12e3334f7480",
   "metadata": {},
   "outputs": [],
   "source": [
    "state = np.array([0,1])"
   ]
  },
  {
   "cell_type": "code",
   "execution_count": 115,
   "id": "abca8f97-0f65-4556-ba42-047f760d6ed6",
   "metadata": {},
   "outputs": [
    {
     "data": {
      "text/plain": [
       "tensor([ 0.70710678, -0.70710678], requires_grad=True)"
      ]
     },
     "execution_count": 115,
     "metadata": {},
     "output_type": "execute_result"
    }
   ],
   "source": [
    "np.matmul(U, state)"
   ]
  },
  {
   "cell_type": "code",
   "execution_count": null,
   "id": "99cc3fb0-5e07-4403-8bb2-890a923b08ea",
   "metadata": {},
   "outputs": [],
   "source": []
  }
 ],
 "metadata": {
  "kernelspec": {
   "display_name": "Python 3 (ipykernel)",
   "language": "python",
   "name": "python3"
  },
  "language_info": {
   "codemirror_mode": {
    "name": "ipython",
    "version": 3
   },
   "file_extension": ".py",
   "mimetype": "text/x-python",
   "name": "python",
   "nbconvert_exporter": "python",
   "pygments_lexer": "ipython3",
   "version": "3.9.7"
  }
 },
 "nbformat": 4,
 "nbformat_minor": 5
}
