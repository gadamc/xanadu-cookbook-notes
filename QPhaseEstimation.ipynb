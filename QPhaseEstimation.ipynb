{
 "cells": [
  {
   "cell_type": "code",
   "execution_count": 1,
   "id": "4e368e04-2a93-4895-8b40-f2555cad0278",
   "metadata": {},
   "outputs": [],
   "source": [
    "from pennylane import numpy as np\n",
    "import pennylane as qml"
   ]
  },
  {
   "cell_type": "code",
   "execution_count": 2,
   "id": "ad1d6e4e-4441-47b6-92d7-65931eb9d6da",
   "metadata": {},
   "outputs": [
    {
     "name": "stdout",
     "output_type": "stream",
     "text": [
      "[0. 1.]\n"
     ]
    }
   ],
   "source": [
    "dev = qml.device(\"default.qubit\", wires=2, shots=1)\n",
    "\n",
    "@qml.qnode(dev)\n",
    "def guess_the_unitary(unitary):\n",
    "    \"\"\"Given a unitary that performs a Z or a -Z operation\n",
    "    on a qubit, guess which one it is.\n",
    "    \n",
    "    Args: \n",
    "        U (array[complex]): A unitary matrix, guaranteed to be either Z or -Z.\n",
    "    \n",
    "    Returns:\n",
    "        array [int]:  Probabilities on  on the first qubit\n",
    "        using qml.probs()\n",
    "    \"\"\"\n",
    "    ##################\n",
    "    # YOUR CODE HERE #\n",
    "    ##################  \n",
    "    qml.Hadamard(wires=0)\n",
    "    qml.ctrl(qml.QubitUnitary, control=0)(unitary, wires=1)\n",
    "    qml.Hadamard(wires=0)\n",
    "    \n",
    "    return qml.probs(wires=0) #qml.expval(qml.PauliZ(0))\n",
    "\n",
    "# Z gate \n",
    "U = qml.PauliZ.matrix \n",
    "\n",
    "# -Z gate\n",
    "U = (-1)*qml.PauliZ.matrix\n",
    "\n",
    "print(guess_the_unitary(U))"
   ]
  },
  {
   "cell_type": "code",
   "execution_count": 4,
   "id": "0ac4f6a0-0677-4a84-85e1-0399e3e85d73",
   "metadata": {},
   "outputs": [
    {
     "name": "stdout",
     "output_type": "stream",
     "text": [
      "[[1.        +0.j         0.        +0.j        ]\n",
      " [0.        +0.j         0.70710678+0.70710678j]]\n"
     ]
    }
   ],
   "source": [
    "U = qml.T._matrix()\n",
    "print(U)"
   ]
  },
  {
   "cell_type": "code",
   "execution_count": 9,
   "id": "2f4e3f57-f698-4d1f-acfd-71d602ef1f71",
   "metadata": {},
   "outputs": [],
   "source": [
    "def U_power_2k(u,k):\n",
    "    return np.linalg.matrix_power(u, 2**k)"
   ]
  },
  {
   "cell_type": "code",
   "execution_count": 6,
   "id": "72fb754f-d0c0-4cb8-a930-b98970d48de6",
   "metadata": {},
   "outputs": [
    {
     "data": {
      "text/plain": [
       "array([[1.00000000e+00+0.j, 0.00000000e+00+0.j],\n",
       "       [0.00000000e+00+0.j, 2.22044605e-16+1.j]])"
      ]
     },
     "execution_count": 6,
     "metadata": {},
     "output_type": "execute_result"
    }
   ],
   "source": [
    "U**2"
   ]
  },
  {
   "cell_type": "code",
   "execution_count": 14,
   "id": "288cfc06-a3f3-4119-adcf-e363de6fcc9c",
   "metadata": {},
   "outputs": [],
   "source": [
    "estimation_wires = [0, 1, 2]\n",
    "target_wires = [3]\n",
    "\n",
    "def apply_controlled_powers_of_U(unitary):\n",
    "    for k in estimation_wires:\n",
    "        actual_k = len(estimation_wires) - k # because shit is in weird unclear reverse order\n",
    "        print(f'control :{actual_k}')\n",
    "        print(U_power_2k(unitary, actual_k))\n",
    "        print(f'target :{target_wires}')\n",
    "        qml.ctrl(qml.QubitUnitary, control=k)(U_power_2k(unitary, actual_k), wires=target_wires)\n"
   ]
  },
  {
   "cell_type": "code",
   "execution_count": 15,
   "id": "29cbcf02-f082-46c2-bfdb-58f8db96c4a9",
   "metadata": {},
   "outputs": [
    {
     "name": "stdout",
     "output_type": "stream",
     "text": [
      "control :3\n",
      "[[1.+0.0000000e+00j 0.+0.0000000e+00j]\n",
      " [0.+0.0000000e+00j 1.-8.8817842e-16j]]\n",
      "target :[3]\n",
      "control :2\n",
      "[[ 1.+0.0000000e+00j  0.+0.0000000e+00j]\n",
      " [ 0.+0.0000000e+00j -1.+4.4408921e-16j]]\n",
      "target :[3]\n",
      "control :1\n",
      "[[1.00000000e+00+0.j 0.00000000e+00+0.j]\n",
      " [0.00000000e+00+0.j 2.22044605e-16+1.j]]\n",
      "target :[3]\n"
     ]
    }
   ],
   "source": [
    "apply_controlled_powers_of_U(U)"
   ]
  },
  {
   "cell_type": "code",
   "execution_count": 21,
   "id": "ebd3591e-f302-42a2-a9d7-b949b41f7edc",
   "metadata": {},
   "outputs": [],
   "source": [
    "estimation_wires = [0, 1, 2]\n",
    "target_wires = [3]\n",
    "\n",
    "def estimate_phase(probs):\n",
    "    \"\"\"Estimate the value of a phase given measurement outcome probabilities\n",
    "    of the QPE routine.\n",
    "    \n",
    "    Args: \n",
    "        probs (array[float]): Probabilities on the estimation wires.\n",
    "    \n",
    "    Returns:\n",
    "        float: the estimated phase   \n",
    "    \"\"\"\n",
    "    ##################\n",
    "    # YOUR CODE HERE #\n",
    "    ################## \n",
    "    most_likely_value = np.argmax(probs) #or do we do a weighted average where the probs are the weights?\n",
    "    print(most_likely_value)\n",
    "    bits = [int(x) for x in np.binary_repr(most_likely_value, width=len(estimation_wires))]\n",
    "    print(bits)\n",
    "    bin_fraction = 0\n",
    "    for k,b in enumerate(bits):\n",
    "        bin_fraction += b / 2**(k+1)\n",
    "        \n",
    "    return bin_fraction"
   ]
  },
  {
   "cell_type": "code",
   "execution_count": 22,
   "id": "fc6dcc40-0cfd-4cb6-bbfd-74871ff454d2",
   "metadata": {},
   "outputs": [],
   "source": [
    "ps = [1.3479e-32, 1.0000e+00, 2.7843e-32, 2.4652e-32, 3.3868e-32, 5.6093e-32,\n",
    "8.4698e-32, 2.6193e-31]"
   ]
  },
  {
   "cell_type": "code",
   "execution_count": 23,
   "id": "7072668b-4fdc-49f7-ab32-84174505366e",
   "metadata": {},
   "outputs": [
    {
     "name": "stdout",
     "output_type": "stream",
     "text": [
      "1\n",
      "[0, 0, 1]\n"
     ]
    },
    {
     "data": {
      "text/plain": [
       "0.125"
      ]
     },
     "execution_count": 23,
     "metadata": {},
     "output_type": "execute_result"
    }
   ],
   "source": [
    "estimate_phase(ps)"
   ]
  },
  {
   "cell_type": "code",
   "execution_count": null,
   "id": "17c7c6d8-757b-41db-9125-dbfc34980548",
   "metadata": {},
   "outputs": [],
   "source": []
  }
 ],
 "metadata": {
  "kernelspec": {
   "display_name": "Python 3 (ipykernel)",
   "language": "python",
   "name": "python3"
  },
  "language_info": {
   "codemirror_mode": {
    "name": "ipython",
    "version": 3
   },
   "file_extension": ".py",
   "mimetype": "text/x-python",
   "name": "python",
   "nbconvert_exporter": "python",
   "pygments_lexer": "ipython3",
   "version": "3.9.7"
  }
 },
 "nbformat": 4,
 "nbformat_minor": 5
}
