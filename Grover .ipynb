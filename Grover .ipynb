{
 "cells": [
  {
   "cell_type": "code",
   "execution_count": 1,
   "id": "0bdaeb62-1569-4cb1-85c8-915b1435adec",
   "metadata": {},
   "outputs": [],
   "source": [
    "import pennylane as qml\n",
    "from pennylane import numpy as np"
   ]
  },
  {
   "cell_type": "code",
   "execution_count": 2,
   "id": "40172b53-30ef-4479-8c90-b075121830ab",
   "metadata": {},
   "outputs": [],
   "source": [
    "\n",
    "n_bits = 4\n",
    "dev = qml.device(\"default.qubit\", wires=n_bits)\n",
    "\n",
    "def oracle_matrix(combo):\n",
    "    \"\"\"Return the oracle matrix for a secret combination.\n",
    "    \n",
    "    Args:\n",
    "        combo (list[int]): A list of bits representing a secret combination.\n",
    "         \n",
    "    Returns: \n",
    "        array[float]: The matrix representation of the oracle.\n",
    "    \"\"\"\n",
    "    index = np.ravel_multi_index(combo, [2]*len(combo)) # Index of solution\n",
    "    my_array = np.identity(2**len(combo)) # Create the identity matrix\n",
    "    my_array[index, index] = -1\n",
    "    return my_array\n",
    "\n",
    "@qml.qnode(dev)\n",
    "def oracle_amp(combo):\n",
    "    \"\"\"Prepare the uniform superposition and apply the oracle.\n",
    "\n",
    "    Args:\n",
    "        combo (list[int]): A list of bits representing the secret combination.\n",
    "\n",
    "    Returns: \n",
    "        array[complex]: The quantum state (amplitudes) after applying the oracle.\n",
    "    \"\"\"\n",
    "    ##################\n",
    "    # YOUR CODE HERE #\n",
    "    ##################\n",
    "    qml.QFT(wires=range(n_bits))\n",
    "    qml.QubitUnitary(oracle_matrix(combo), wires=range(n_bits))\n",
    "    return qml.state()"
   ]
  },
  {
   "cell_type": "code",
   "execution_count": 3,
   "id": "f647b576-144e-4068-866f-3fb65549063a",
   "metadata": {},
   "outputs": [
    {
     "data": {
      "text/plain": [
       "tensor([ 0.25+0.j,  0.25+0.j,  0.25+0.j,  0.25+0.j, -0.25+0.j,  0.25+0.j,\n",
       "         0.25+0.j,  0.25+0.j,  0.25+0.j,  0.25+0.j,  0.25+0.j,  0.25+0.j,\n",
       "         0.25+0.j,  0.25+0.j,  0.25+0.j,  0.25+0.j], requires_grad=True)"
      ]
     },
     "execution_count": 3,
     "metadata": {},
     "output_type": "execute_result"
    }
   ],
   "source": [
    "oracle_amp([0,1,0,0])"
   ]
  },
  {
   "cell_type": "code",
   "execution_count": 25,
   "id": "5fdb1de0-1f68-4313-9370-af1746fc23c5",
   "metadata": {},
   "outputs": [],
   "source": [
    "n_bits = 4\n",
    "\n",
    "def diffusion_matrix():\n",
    "    \"\"\"Return the diffusion matrix.\n",
    "\n",
    "    Returns: \n",
    "        array[float]: The matrix representation of the diffusion operator.\n",
    "    \"\"\"\n",
    "    ##################\n",
    "    # YOUR CODE HERE #\n",
    "    ##################\n",
    "    # FORM A DIFFERENCE OF MATRICES\n",
    "    psi = np.ones(2**n_bits, dtype=complex)/np.sqrt(2**n_bits)\n",
    "    return 2*np.outer(psi, psi) - np.identity(2**n_bits)\n",
    "    \n",
    "\n",
    "@qml.qnode(dev)\n",
    "def difforacle_amp(combo):\n",
    "    \"\"\"Apply the oracle and diffusion matrix to the uniform superposition.\n",
    "\n",
    "    Args:\n",
    "        combo (list[int]): A list of bits representing the secret combination.\n",
    "\n",
    "    Returns:\n",
    "        array[complex]: The quantum state (amplitudes) after applying the oracle\n",
    "        and diffusion.\n",
    "    \"\"\"\n",
    "    ##################\n",
    "    # YOUR CODE HERE #\n",
    "    ##################\n",
    "    qml.QFT(wires=range(n_bits))\n",
    "    qml.QubitUnitary(oracle_matrix(combo), wires=range(n_bits))\n",
    "    qml.QubitUnitary(diffusion_matrix(), wires=range(n_bits))\n",
    "    \n",
    "    return qml.state()\n",
    "\n",
    "dev2 = qml.device(\"default.qubit\", wires=n_bits)\n",
    "\n",
    "@qml.qnode(dev2)\n",
    "def uniform():\n",
    "    for w in range(n_bits):\n",
    "        qml.Hadamard(w)\n",
    "    #qml.QFT(wires=range(n_bits))\n",
    "    return qml.state()"
   ]
  },
  {
   "cell_type": "code",
   "execution_count": 5,
   "id": "c39594bc-ee73-48f9-991c-1e64a1f41a4a",
   "metadata": {},
   "outputs": [
    {
     "data": {
      "text/plain": [
       "tensor([[ 1.,  0.,  0.,  0.,  0.,  0.,  0.,  0.,  0.,  0.,  0.,  0.,  0.,\n",
       "          0.,  0.,  0.],\n",
       "        [ 0.,  1.,  0.,  0.,  0.,  0.,  0.,  0.,  0.,  0.,  0.,  0.,  0.,\n",
       "          0.,  0.,  0.],\n",
       "        [ 0.,  0.,  1.,  0.,  0.,  0.,  0.,  0.,  0.,  0.,  0.,  0.,  0.,\n",
       "          0.,  0.,  0.],\n",
       "        [ 0.,  0.,  0.,  1.,  0.,  0.,  0.,  0.,  0.,  0.,  0.,  0.,  0.,\n",
       "          0.,  0.,  0.],\n",
       "        [ 0.,  0.,  0.,  0., -1.,  0.,  0.,  0.,  0.,  0.,  0.,  0.,  0.,\n",
       "          0.,  0.,  0.],\n",
       "        [ 0.,  0.,  0.,  0.,  0.,  1.,  0.,  0.,  0.,  0.,  0.,  0.,  0.,\n",
       "          0.,  0.,  0.],\n",
       "        [ 0.,  0.,  0.,  0.,  0.,  0.,  1.,  0.,  0.,  0.,  0.,  0.,  0.,\n",
       "          0.,  0.,  0.],\n",
       "        [ 0.,  0.,  0.,  0.,  0.,  0.,  0.,  1.,  0.,  0.,  0.,  0.,  0.,\n",
       "          0.,  0.,  0.],\n",
       "        [ 0.,  0.,  0.,  0.,  0.,  0.,  0.,  0.,  1.,  0.,  0.,  0.,  0.,\n",
       "          0.,  0.,  0.],\n",
       "        [ 0.,  0.,  0.,  0.,  0.,  0.,  0.,  0.,  0.,  1.,  0.,  0.,  0.,\n",
       "          0.,  0.,  0.],\n",
       "        [ 0.,  0.,  0.,  0.,  0.,  0.,  0.,  0.,  0.,  0.,  1.,  0.,  0.,\n",
       "          0.,  0.,  0.],\n",
       "        [ 0.,  0.,  0.,  0.,  0.,  0.,  0.,  0.,  0.,  0.,  0.,  1.,  0.,\n",
       "          0.,  0.,  0.],\n",
       "        [ 0.,  0.,  0.,  0.,  0.,  0.,  0.,  0.,  0.,  0.,  0.,  0.,  1.,\n",
       "          0.,  0.,  0.],\n",
       "        [ 0.,  0.,  0.,  0.,  0.,  0.,  0.,  0.,  0.,  0.,  0.,  0.,  0.,\n",
       "          1.,  0.,  0.],\n",
       "        [ 0.,  0.,  0.,  0.,  0.,  0.,  0.,  0.,  0.,  0.,  0.,  0.,  0.,\n",
       "          0.,  1.,  0.],\n",
       "        [ 0.,  0.,  0.,  0.,  0.,  0.,  0.,  0.,  0.,  0.,  0.,  0.,  0.,\n",
       "          0.,  0.,  1.]], requires_grad=True)"
      ]
     },
     "execution_count": 5,
     "metadata": {},
     "output_type": "execute_result"
    }
   ],
   "source": [
    "oracle_matrix([0,1,0,0])"
   ]
  },
  {
   "cell_type": "code",
   "execution_count": 6,
   "id": "f397eac3-4781-4e6c-a168-acdee8d51630",
   "metadata": {},
   "outputs": [
    {
     "data": {
      "text/plain": [
       "(16, 16)"
      ]
     },
     "execution_count": 6,
     "metadata": {},
     "output_type": "execute_result"
    }
   ],
   "source": [
    "oracle_matrix([0,1,0,0]).shape"
   ]
  },
  {
   "cell_type": "code",
   "execution_count": 31,
   "id": "993f639b-4a58-4136-a4a8-5c5e387df512",
   "metadata": {},
   "outputs": [
    {
     "data": {
      "text/plain": [
       "tensor([[0.0625+0.j, 0.0625+0.j, 0.0625+0.j, 0.0625+0.j, 0.0625+0.j,\n",
       "         0.0625+0.j, 0.0625+0.j, 0.0625+0.j, 0.0625+0.j, 0.0625+0.j,\n",
       "         0.0625+0.j, 0.0625+0.j, 0.0625+0.j, 0.0625+0.j, 0.0625+0.j,\n",
       "         0.0625+0.j],\n",
       "        [0.0625+0.j, 0.0625+0.j, 0.0625+0.j, 0.0625+0.j, 0.0625+0.j,\n",
       "         0.0625+0.j, 0.0625+0.j, 0.0625+0.j, 0.0625+0.j, 0.0625+0.j,\n",
       "         0.0625+0.j, 0.0625+0.j, 0.0625+0.j, 0.0625+0.j, 0.0625+0.j,\n",
       "         0.0625+0.j],\n",
       "        [0.0625+0.j, 0.0625+0.j, 0.0625+0.j, 0.0625+0.j, 0.0625+0.j,\n",
       "         0.0625+0.j, 0.0625+0.j, 0.0625+0.j, 0.0625+0.j, 0.0625+0.j,\n",
       "         0.0625+0.j, 0.0625+0.j, 0.0625+0.j, 0.0625+0.j, 0.0625+0.j,\n",
       "         0.0625+0.j],\n",
       "        [0.0625+0.j, 0.0625+0.j, 0.0625+0.j, 0.0625+0.j, 0.0625+0.j,\n",
       "         0.0625+0.j, 0.0625+0.j, 0.0625+0.j, 0.0625+0.j, 0.0625+0.j,\n",
       "         0.0625+0.j, 0.0625+0.j, 0.0625+0.j, 0.0625+0.j, 0.0625+0.j,\n",
       "         0.0625+0.j],\n",
       "        [0.0625+0.j, 0.0625+0.j, 0.0625+0.j, 0.0625+0.j, 0.0625+0.j,\n",
       "         0.0625+0.j, 0.0625+0.j, 0.0625+0.j, 0.0625+0.j, 0.0625+0.j,\n",
       "         0.0625+0.j, 0.0625+0.j, 0.0625+0.j, 0.0625+0.j, 0.0625+0.j,\n",
       "         0.0625+0.j],\n",
       "        [0.0625+0.j, 0.0625+0.j, 0.0625+0.j, 0.0625+0.j, 0.0625+0.j,\n",
       "         0.0625+0.j, 0.0625+0.j, 0.0625+0.j, 0.0625+0.j, 0.0625+0.j,\n",
       "         0.0625+0.j, 0.0625+0.j, 0.0625+0.j, 0.0625+0.j, 0.0625+0.j,\n",
       "         0.0625+0.j],\n",
       "        [0.0625+0.j, 0.0625+0.j, 0.0625+0.j, 0.0625+0.j, 0.0625+0.j,\n",
       "         0.0625+0.j, 0.0625+0.j, 0.0625+0.j, 0.0625+0.j, 0.0625+0.j,\n",
       "         0.0625+0.j, 0.0625+0.j, 0.0625+0.j, 0.0625+0.j, 0.0625+0.j,\n",
       "         0.0625+0.j],\n",
       "        [0.0625+0.j, 0.0625+0.j, 0.0625+0.j, 0.0625+0.j, 0.0625+0.j,\n",
       "         0.0625+0.j, 0.0625+0.j, 0.0625+0.j, 0.0625+0.j, 0.0625+0.j,\n",
       "         0.0625+0.j, 0.0625+0.j, 0.0625+0.j, 0.0625+0.j, 0.0625+0.j,\n",
       "         0.0625+0.j],\n",
       "        [0.0625+0.j, 0.0625+0.j, 0.0625+0.j, 0.0625+0.j, 0.0625+0.j,\n",
       "         0.0625+0.j, 0.0625+0.j, 0.0625+0.j, 0.0625+0.j, 0.0625+0.j,\n",
       "         0.0625+0.j, 0.0625+0.j, 0.0625+0.j, 0.0625+0.j, 0.0625+0.j,\n",
       "         0.0625+0.j],\n",
       "        [0.0625+0.j, 0.0625+0.j, 0.0625+0.j, 0.0625+0.j, 0.0625+0.j,\n",
       "         0.0625+0.j, 0.0625+0.j, 0.0625+0.j, 0.0625+0.j, 0.0625+0.j,\n",
       "         0.0625+0.j, 0.0625+0.j, 0.0625+0.j, 0.0625+0.j, 0.0625+0.j,\n",
       "         0.0625+0.j],\n",
       "        [0.0625+0.j, 0.0625+0.j, 0.0625+0.j, 0.0625+0.j, 0.0625+0.j,\n",
       "         0.0625+0.j, 0.0625+0.j, 0.0625+0.j, 0.0625+0.j, 0.0625+0.j,\n",
       "         0.0625+0.j, 0.0625+0.j, 0.0625+0.j, 0.0625+0.j, 0.0625+0.j,\n",
       "         0.0625+0.j],\n",
       "        [0.0625+0.j, 0.0625+0.j, 0.0625+0.j, 0.0625+0.j, 0.0625+0.j,\n",
       "         0.0625+0.j, 0.0625+0.j, 0.0625+0.j, 0.0625+0.j, 0.0625+0.j,\n",
       "         0.0625+0.j, 0.0625+0.j, 0.0625+0.j, 0.0625+0.j, 0.0625+0.j,\n",
       "         0.0625+0.j],\n",
       "        [0.0625+0.j, 0.0625+0.j, 0.0625+0.j, 0.0625+0.j, 0.0625+0.j,\n",
       "         0.0625+0.j, 0.0625+0.j, 0.0625+0.j, 0.0625+0.j, 0.0625+0.j,\n",
       "         0.0625+0.j, 0.0625+0.j, 0.0625+0.j, 0.0625+0.j, 0.0625+0.j,\n",
       "         0.0625+0.j],\n",
       "        [0.0625+0.j, 0.0625+0.j, 0.0625+0.j, 0.0625+0.j, 0.0625+0.j,\n",
       "         0.0625+0.j, 0.0625+0.j, 0.0625+0.j, 0.0625+0.j, 0.0625+0.j,\n",
       "         0.0625+0.j, 0.0625+0.j, 0.0625+0.j, 0.0625+0.j, 0.0625+0.j,\n",
       "         0.0625+0.j],\n",
       "        [0.0625+0.j, 0.0625+0.j, 0.0625+0.j, 0.0625+0.j, 0.0625+0.j,\n",
       "         0.0625+0.j, 0.0625+0.j, 0.0625+0.j, 0.0625+0.j, 0.0625+0.j,\n",
       "         0.0625+0.j, 0.0625+0.j, 0.0625+0.j, 0.0625+0.j, 0.0625+0.j,\n",
       "         0.0625+0.j],\n",
       "        [0.0625+0.j, 0.0625+0.j, 0.0625+0.j, 0.0625+0.j, 0.0625+0.j,\n",
       "         0.0625+0.j, 0.0625+0.j, 0.0625+0.j, 0.0625+0.j, 0.0625+0.j,\n",
       "         0.0625+0.j, 0.0625+0.j, 0.0625+0.j, 0.0625+0.j, 0.0625+0.j,\n",
       "         0.0625+0.j]], requires_grad=True)"
      ]
     },
     "execution_count": 31,
     "metadata": {},
     "output_type": "execute_result"
    }
   ],
   "source": [
    "np.outer(psi,psi)"
   ]
  },
  {
   "cell_type": "code",
   "execution_count": 26,
   "id": "0d0f5444-3603-4830-a473-af0accfa8fcc",
   "metadata": {},
   "outputs": [
    {
     "data": {
      "text/plain": [
       "tensor([[-0.875+0.j,  0.125+0.j,  0.125+0.j,  0.125+0.j,  0.125+0.j,\n",
       "          0.125+0.j,  0.125+0.j,  0.125+0.j,  0.125+0.j,  0.125+0.j,\n",
       "          0.125+0.j,  0.125+0.j,  0.125+0.j,  0.125+0.j,  0.125+0.j,\n",
       "          0.125+0.j],\n",
       "        [ 0.125+0.j, -0.875+0.j,  0.125+0.j,  0.125+0.j,  0.125+0.j,\n",
       "          0.125+0.j,  0.125+0.j,  0.125+0.j,  0.125+0.j,  0.125+0.j,\n",
       "          0.125+0.j,  0.125+0.j,  0.125+0.j,  0.125+0.j,  0.125+0.j,\n",
       "          0.125+0.j],\n",
       "        [ 0.125+0.j,  0.125+0.j, -0.875+0.j,  0.125+0.j,  0.125+0.j,\n",
       "          0.125+0.j,  0.125+0.j,  0.125+0.j,  0.125+0.j,  0.125+0.j,\n",
       "          0.125+0.j,  0.125+0.j,  0.125+0.j,  0.125+0.j,  0.125+0.j,\n",
       "          0.125+0.j],\n",
       "        [ 0.125+0.j,  0.125+0.j,  0.125+0.j, -0.875+0.j,  0.125+0.j,\n",
       "          0.125+0.j,  0.125+0.j,  0.125+0.j,  0.125+0.j,  0.125+0.j,\n",
       "          0.125+0.j,  0.125+0.j,  0.125+0.j,  0.125+0.j,  0.125+0.j,\n",
       "          0.125+0.j],\n",
       "        [ 0.125+0.j,  0.125+0.j,  0.125+0.j,  0.125+0.j, -0.875+0.j,\n",
       "          0.125+0.j,  0.125+0.j,  0.125+0.j,  0.125+0.j,  0.125+0.j,\n",
       "          0.125+0.j,  0.125+0.j,  0.125+0.j,  0.125+0.j,  0.125+0.j,\n",
       "          0.125+0.j],\n",
       "        [ 0.125+0.j,  0.125+0.j,  0.125+0.j,  0.125+0.j,  0.125+0.j,\n",
       "         -0.875+0.j,  0.125+0.j,  0.125+0.j,  0.125+0.j,  0.125+0.j,\n",
       "          0.125+0.j,  0.125+0.j,  0.125+0.j,  0.125+0.j,  0.125+0.j,\n",
       "          0.125+0.j],\n",
       "        [ 0.125+0.j,  0.125+0.j,  0.125+0.j,  0.125+0.j,  0.125+0.j,\n",
       "          0.125+0.j, -0.875+0.j,  0.125+0.j,  0.125+0.j,  0.125+0.j,\n",
       "          0.125+0.j,  0.125+0.j,  0.125+0.j,  0.125+0.j,  0.125+0.j,\n",
       "          0.125+0.j],\n",
       "        [ 0.125+0.j,  0.125+0.j,  0.125+0.j,  0.125+0.j,  0.125+0.j,\n",
       "          0.125+0.j,  0.125+0.j, -0.875+0.j,  0.125+0.j,  0.125+0.j,\n",
       "          0.125+0.j,  0.125+0.j,  0.125+0.j,  0.125+0.j,  0.125+0.j,\n",
       "          0.125+0.j],\n",
       "        [ 0.125+0.j,  0.125+0.j,  0.125+0.j,  0.125+0.j,  0.125+0.j,\n",
       "          0.125+0.j,  0.125+0.j,  0.125+0.j, -0.875+0.j,  0.125+0.j,\n",
       "          0.125+0.j,  0.125+0.j,  0.125+0.j,  0.125+0.j,  0.125+0.j,\n",
       "          0.125+0.j],\n",
       "        [ 0.125+0.j,  0.125+0.j,  0.125+0.j,  0.125+0.j,  0.125+0.j,\n",
       "          0.125+0.j,  0.125+0.j,  0.125+0.j,  0.125+0.j, -0.875+0.j,\n",
       "          0.125+0.j,  0.125+0.j,  0.125+0.j,  0.125+0.j,  0.125+0.j,\n",
       "          0.125+0.j],\n",
       "        [ 0.125+0.j,  0.125+0.j,  0.125+0.j,  0.125+0.j,  0.125+0.j,\n",
       "          0.125+0.j,  0.125+0.j,  0.125+0.j,  0.125+0.j,  0.125+0.j,\n",
       "         -0.875+0.j,  0.125+0.j,  0.125+0.j,  0.125+0.j,  0.125+0.j,\n",
       "          0.125+0.j],\n",
       "        [ 0.125+0.j,  0.125+0.j,  0.125+0.j,  0.125+0.j,  0.125+0.j,\n",
       "          0.125+0.j,  0.125+0.j,  0.125+0.j,  0.125+0.j,  0.125+0.j,\n",
       "          0.125+0.j, -0.875+0.j,  0.125+0.j,  0.125+0.j,  0.125+0.j,\n",
       "          0.125+0.j],\n",
       "        [ 0.125+0.j,  0.125+0.j,  0.125+0.j,  0.125+0.j,  0.125+0.j,\n",
       "          0.125+0.j,  0.125+0.j,  0.125+0.j,  0.125+0.j,  0.125+0.j,\n",
       "          0.125+0.j,  0.125+0.j, -0.875+0.j,  0.125+0.j,  0.125+0.j,\n",
       "          0.125+0.j],\n",
       "        [ 0.125+0.j,  0.125+0.j,  0.125+0.j,  0.125+0.j,  0.125+0.j,\n",
       "          0.125+0.j,  0.125+0.j,  0.125+0.j,  0.125+0.j,  0.125+0.j,\n",
       "          0.125+0.j,  0.125+0.j,  0.125+0.j, -0.875+0.j,  0.125+0.j,\n",
       "          0.125+0.j],\n",
       "        [ 0.125+0.j,  0.125+0.j,  0.125+0.j,  0.125+0.j,  0.125+0.j,\n",
       "          0.125+0.j,  0.125+0.j,  0.125+0.j,  0.125+0.j,  0.125+0.j,\n",
       "          0.125+0.j,  0.125+0.j,  0.125+0.j,  0.125+0.j, -0.875+0.j,\n",
       "          0.125+0.j],\n",
       "        [ 0.125+0.j,  0.125+0.j,  0.125+0.j,  0.125+0.j,  0.125+0.j,\n",
       "          0.125+0.j,  0.125+0.j,  0.125+0.j,  0.125+0.j,  0.125+0.j,\n",
       "          0.125+0.j,  0.125+0.j,  0.125+0.j,  0.125+0.j,  0.125+0.j,\n",
       "         -0.875+0.j]], requires_grad=True)"
      ]
     },
     "execution_count": 26,
     "metadata": {},
     "output_type": "execute_result"
    }
   ],
   "source": [
    "diffusion_matrix()"
   ]
  },
  {
   "cell_type": "code",
   "execution_count": 22,
   "id": "ca75a521-f97c-4dae-959d-c6ba710b8822",
   "metadata": {},
   "outputs": [
    {
     "data": {
      "text/plain": [
       "tensor([[-0.875+0.j,  0.125+0.j,  0.125+0.j,  0.125+0.j,  0.125+0.j,\n",
       "          0.125+0.j,  0.125+0.j,  0.125+0.j,  0.125+0.j,  0.125+0.j,\n",
       "          0.125+0.j,  0.125+0.j,  0.125+0.j,  0.125+0.j,  0.125+0.j,\n",
       "          0.125+0.j],\n",
       "        [ 0.125+0.j, -0.875+0.j,  0.125+0.j,  0.125+0.j,  0.125+0.j,\n",
       "          0.125+0.j,  0.125+0.j,  0.125+0.j,  0.125+0.j,  0.125+0.j,\n",
       "          0.125+0.j,  0.125+0.j,  0.125+0.j,  0.125+0.j,  0.125+0.j,\n",
       "          0.125+0.j],\n",
       "        [ 0.125+0.j,  0.125+0.j, -0.875+0.j,  0.125+0.j,  0.125+0.j,\n",
       "          0.125+0.j,  0.125+0.j,  0.125+0.j,  0.125+0.j,  0.125+0.j,\n",
       "          0.125+0.j,  0.125+0.j,  0.125+0.j,  0.125+0.j,  0.125+0.j,\n",
       "          0.125+0.j],\n",
       "        [ 0.125+0.j,  0.125+0.j,  0.125+0.j, -0.875+0.j,  0.125+0.j,\n",
       "          0.125+0.j,  0.125+0.j,  0.125+0.j,  0.125+0.j,  0.125+0.j,\n",
       "          0.125+0.j,  0.125+0.j,  0.125+0.j,  0.125+0.j,  0.125+0.j,\n",
       "          0.125+0.j],\n",
       "        [ 0.125+0.j,  0.125+0.j,  0.125+0.j,  0.125+0.j, -0.875+0.j,\n",
       "          0.125+0.j,  0.125+0.j,  0.125+0.j,  0.125+0.j,  0.125+0.j,\n",
       "          0.125+0.j,  0.125+0.j,  0.125+0.j,  0.125+0.j,  0.125+0.j,\n",
       "          0.125+0.j],\n",
       "        [ 0.125+0.j,  0.125+0.j,  0.125+0.j,  0.125+0.j,  0.125+0.j,\n",
       "         -0.875+0.j,  0.125+0.j,  0.125+0.j,  0.125+0.j,  0.125+0.j,\n",
       "          0.125+0.j,  0.125+0.j,  0.125+0.j,  0.125+0.j,  0.125+0.j,\n",
       "          0.125+0.j],\n",
       "        [ 0.125+0.j,  0.125+0.j,  0.125+0.j,  0.125+0.j,  0.125+0.j,\n",
       "          0.125+0.j, -0.875+0.j,  0.125+0.j,  0.125+0.j,  0.125+0.j,\n",
       "          0.125+0.j,  0.125+0.j,  0.125+0.j,  0.125+0.j,  0.125+0.j,\n",
       "          0.125+0.j],\n",
       "        [ 0.125+0.j,  0.125+0.j,  0.125+0.j,  0.125+0.j,  0.125+0.j,\n",
       "          0.125+0.j,  0.125+0.j, -0.875+0.j,  0.125+0.j,  0.125+0.j,\n",
       "          0.125+0.j,  0.125+0.j,  0.125+0.j,  0.125+0.j,  0.125+0.j,\n",
       "          0.125+0.j],\n",
       "        [ 0.125+0.j,  0.125+0.j,  0.125+0.j,  0.125+0.j,  0.125+0.j,\n",
       "          0.125+0.j,  0.125+0.j,  0.125+0.j, -0.875+0.j,  0.125+0.j,\n",
       "          0.125+0.j,  0.125+0.j,  0.125+0.j,  0.125+0.j,  0.125+0.j,\n",
       "          0.125+0.j],\n",
       "        [ 0.125+0.j,  0.125+0.j,  0.125+0.j,  0.125+0.j,  0.125+0.j,\n",
       "          0.125+0.j,  0.125+0.j,  0.125+0.j,  0.125+0.j, -0.875+0.j,\n",
       "          0.125+0.j,  0.125+0.j,  0.125+0.j,  0.125+0.j,  0.125+0.j,\n",
       "          0.125+0.j],\n",
       "        [ 0.125+0.j,  0.125+0.j,  0.125+0.j,  0.125+0.j,  0.125+0.j,\n",
       "          0.125+0.j,  0.125+0.j,  0.125+0.j,  0.125+0.j,  0.125+0.j,\n",
       "         -0.875+0.j,  0.125+0.j,  0.125+0.j,  0.125+0.j,  0.125+0.j,\n",
       "          0.125+0.j],\n",
       "        [ 0.125+0.j,  0.125+0.j,  0.125+0.j,  0.125+0.j,  0.125+0.j,\n",
       "          0.125+0.j,  0.125+0.j,  0.125+0.j,  0.125+0.j,  0.125+0.j,\n",
       "          0.125+0.j, -0.875+0.j,  0.125+0.j,  0.125+0.j,  0.125+0.j,\n",
       "          0.125+0.j],\n",
       "        [ 0.125+0.j,  0.125+0.j,  0.125+0.j,  0.125+0.j,  0.125+0.j,\n",
       "          0.125+0.j,  0.125+0.j,  0.125+0.j,  0.125+0.j,  0.125+0.j,\n",
       "          0.125+0.j,  0.125+0.j, -0.875+0.j,  0.125+0.j,  0.125+0.j,\n",
       "          0.125+0.j],\n",
       "        [ 0.125+0.j,  0.125+0.j,  0.125+0.j,  0.125+0.j,  0.125+0.j,\n",
       "          0.125+0.j,  0.125+0.j,  0.125+0.j,  0.125+0.j,  0.125+0.j,\n",
       "          0.125+0.j,  0.125+0.j,  0.125+0.j, -0.875+0.j,  0.125+0.j,\n",
       "          0.125+0.j],\n",
       "        [ 0.125+0.j,  0.125+0.j,  0.125+0.j,  0.125+0.j,  0.125+0.j,\n",
       "          0.125+0.j,  0.125+0.j,  0.125+0.j,  0.125+0.j,  0.125+0.j,\n",
       "          0.125+0.j,  0.125+0.j,  0.125+0.j,  0.125+0.j, -0.875+0.j,\n",
       "          0.125+0.j],\n",
       "        [ 0.125+0.j,  0.125+0.j,  0.125+0.j,  0.125+0.j,  0.125+0.j,\n",
       "          0.125+0.j,  0.125+0.j,  0.125+0.j,  0.125+0.j,  0.125+0.j,\n",
       "          0.125+0.j,  0.125+0.j,  0.125+0.j,  0.125+0.j,  0.125+0.j,\n",
       "         -0.875+0.j]], requires_grad=True)"
      ]
     },
     "execution_count": 22,
     "metadata": {},
     "output_type": "execute_result"
    }
   ],
   "source": [
    "2*np.outer(uniform(),uniform()) - np.identity(16)"
   ]
  },
  {
   "cell_type": "code",
   "execution_count": 27,
   "id": "5b95205a-ddb1-4ae0-86f7-4c7da84f9e60",
   "metadata": {},
   "outputs": [],
   "source": [
    "psi = np.ones(2**n_bits, dtype=complex)/np.sqrt(2**n_bits)"
   ]
  },
  {
   "cell_type": "code",
   "execution_count": 28,
   "id": "64d161ec-9b2a-4e85-9e97-11c293649e25",
   "metadata": {},
   "outputs": [
    {
     "data": {
      "text/plain": [
       "tensor([0.25+0.j, 0.25+0.j, 0.25+0.j, 0.25+0.j, 0.25+0.j, 0.25+0.j,\n",
       "        0.25+0.j, 0.25+0.j, 0.25+0.j, 0.25+0.j, 0.25+0.j, 0.25+0.j,\n",
       "        0.25+0.j, 0.25+0.j, 0.25+0.j, 0.25+0.j], requires_grad=True)"
      ]
     },
     "execution_count": 28,
     "metadata": {},
     "output_type": "execute_result"
    }
   ],
   "source": [
    "psi"
   ]
  },
  {
   "cell_type": "code",
   "execution_count": 39,
   "id": "19c9a157-3dda-43bc-a76b-090e176f4705",
   "metadata": {},
   "outputs": [],
   "source": [
    "n_bits = 8\n",
    "dev = qml.device(\"default.qubit\", wires=n_bits)\n",
    "\n",
    "def oracle_matrix(combo):\n",
    "    \"\"\"Return the oracle matrix for a secret combination.\n",
    "    \n",
    "    Args:\n",
    "        combo (list[int]): A list of bits representing a secret combination.\n",
    "         \n",
    "    Returns: \n",
    "        array[float]: The matrix representation of the oracle.\n",
    "    \"\"\"\n",
    "    index = np.ravel_multi_index(combo, [2]*len(combo)) # Index of solution\n",
    "    my_array = np.identity(2**len(combo)) # Create the identity matrix\n",
    "    my_array[index, index] = -1\n",
    "    return my_array\n",
    "\n",
    "def diffusion_matrix():\n",
    "    \"\"\"Return the diffusion matrix.\n",
    "\n",
    "    Returns: \n",
    "        array[float]: The matrix representation of the diffusion operator.\n",
    "    \"\"\"\n",
    "    psi_piece = (1/2**n_bits)*np.ones(2**n_bits)\n",
    "    ident_piece = np.eye(2**n_bits)\n",
    "    return (2*psi_piece - ident_piece)\n",
    "\n",
    "@qml.qnode(dev)\n",
    "def grover_circuit(combo, num_steps):\n",
    "    \"\"\"Apply the Grover operator num_steps times to the uniform superposition \n",
    "       and return the state.\n",
    "\n",
    "    Args:\n",
    "        combo (list[int]): A list of bits representing the secret combination.\n",
    "        num_steps (int): The number of iterations of the Grover operator\n",
    "            our circuit is to perform.\n",
    "\n",
    "    Returns: \n",
    "        array[complex]: The quantum state (amplitudes) after repeated Grover \n",
    "        iterations.\n",
    "    \"\"\"\n",
    "    ##################\n",
    "    # YOUR CODE HERE #\n",
    "    ##################\n",
    "    qml.QFT(wires=range(n_bits)) #prepare superposition\n",
    "    \n",
    "    U_o = oracle_matrix(combo)\n",
    "    D = diffusion_matrix()\n",
    "    for i in range(num_steps):\n",
    "        qml.QubitUnitary(U_o, wires=range(n_bits))\n",
    "        qml.QubitUnitary(D, wires=range(n_bits))\n",
    "\n",
    "    return qml.state()"
   ]
  },
  {
   "cell_type": "code",
   "execution_count": 44,
   "id": "ac044421-4065-480a-9f4d-fa3984306831",
   "metadata": {},
   "outputs": [
    {
     "data": {
      "text/plain": [
       "186"
      ]
     },
     "execution_count": 44,
     "metadata": {},
     "output_type": "execute_result"
    }
   ],
   "source": [
    "combo = [1,0,1,1,1,0,1,0]\n",
    "np.ravel_multi_index(combo, [2]*len(combo))"
   ]
  },
  {
   "cell_type": "code",
   "execution_count": 46,
   "id": "48e85543-2f92-4d61-9006-ec7f5b83e051",
   "metadata": {},
   "outputs": [
    {
     "data": {
      "text/plain": [
       "12.566370614359172"
      ]
     },
     "execution_count": 46,
     "metadata": {},
     "output_type": "execute_result"
    }
   ],
   "source": [
    "np.sqrt(2**n_bits)*np.pi/4"
   ]
  },
  {
   "cell_type": "code",
   "execution_count": 42,
   "id": "05837c64-0a37-4780-be52-7379cd6ff7ec",
   "metadata": {},
   "outputs": [
    {
     "name": "stdout",
     "output_type": "stream",
     "text": [
      "step 0 -- max element in state: 0,  max value in state:  (0.0625+0j)\n",
      "step 1 -- max element in state: 186,  max value in state:  (0.1865234375+0j)\n",
      "step 2 -- max element in state: 186,  max value in state:  (0.3076324462890625+0j)\n",
      "step 3 -- max element in state: 186,  max value in state:  (0.4239346981048584+0j)\n",
      "step 4 -- max element in state: 186,  max value in state:  (0.5336129702627659+0j)\n",
      "step 5 -- max element in state: 186,  max value in state:  (0.6349535397603177+0j)\n",
      "step 6 -- max element in state: 186,  max value in state:  (0.7263729601991145+0j)\n",
      "step 7 -- max element in state: 186,  max value in state:  (0.8064428031348001+0j)\n",
      "step 8 -- max element in state: 186,  max value in state:  (0.8739119772715045+0j)\n",
      "step 9 -- max element in state: 186,  max value in state:  (0.9277262767633414+0j)\n",
      "step 10 -- max element in state: 186,  max value in state:  (0.96704485318075+0j)\n",
      "step 11 -- max element in state: 186,  max value in state:  (0.9912533537672089+0j)\n",
      "step 12 -- max element in state: 186,  max value in state:  (0.9999735207010564+0j)\n",
      "step 13 -- max element in state: 186,  max value in state:  (0.9930691013739487+0j)\n",
      "step 14 -- max element in state: 186,  max value in state:  (0.9706479773378738+0j)\n",
      "step 15 -- max element in state: 186,  max value in state:  (0.9330604786558966+0j)\n",
      "step 16 -- max element in state: 186,  max value in state:  (0.8808939099949199+0j)\n",
      "step 17 -- max element in state: 186,  max value in state:  (0.8149633739902713+0j)\n",
      "step 18 -- max element in state: 186,  max value in state:  (0.7362990352670241+0j)\n",
      "step 19 -- max element in state: 186,  max value in state:  (0.6461300241177297+0j)\n",
      "step 20 -- max element in state: 186,  max value in state:  (0.5458652313415967+0j)\n",
      "step 21 -- max element in state: 186,  max value in state:  (0.43707129432575115+0j)\n",
      "step 22 -- max element in state: 186,  max value in state:  (0.32144811833606696+0j)\n",
      "step 23 -- max element in state: 186,  max value in state:  (0.20080231549738164+0j)\n",
      "step 24 -- max element in state: 186,  max value in state:  (0.07701897647905026+0j)\n",
      "step 25 -- max element in state: 186,  max value in state:  (-0.047967784046766354+0j)\n",
      "step 26 -- max element in state: 25,  max value in state:  (-0.0616869205147612+0j)\n",
      "step 27 -- max element in state: 0,  max value in state:  (-0.059859639511154666+0j)\n",
      "step 28 -- max element in state: 7,  max value in state:  (-0.057097051640186414+0j)\n",
      "step 29 -- max element in state: 116,  max value in state:  (-0.05344232233734052+0j)\n",
      "step 30 -- max element in state: 239,  max value in state:  (-0.04895255674797329+0j)\n",
      "step 31 -- max element in state: 116,  max value in state:  (-0.04369790745941909+0j)\n",
      "step 32 -- max element in state: 223,  max value in state:  (-0.03776047836681162+0j)\n",
      "step 33 -- max element in state: 116,  max value in state:  (-0.03123304179972252+0j)\n",
      "step 34 -- max element in state: 6,  max value in state:  (-0.02421758895451305+0j)\n",
      "step 35 -- max element in state: 116,  max value in state:  (-0.016823736281889018+0j)\n",
      "step 36 -- max element in state: 193,  max value in state:  (-0.009167012729860705+0j)\n",
      "step 37 -- max element in state: 116,  max value in state:  (-0.0013670546039281205+0j)\n",
      "step 38 -- max element in state: 193,  max value in state:  (0.006454263750190647+0j)\n",
      "step 39 -- max element in state: 116,  max value in state:  (0.014174734233212923+0j)\n",
      "step 40 -- max element in state: 193,  max value in state:  (0.021673724493841043+0j)\n",
      "step 41 -- max element in state: 116,  max value in state:  (0.02883406280925315+0j)\n",
      "step 42 -- max element in state: 67,  max value in state:  (0.03554386889327044+0j)\n",
      "step 43 -- max element in state: 116,  max value in state:  (0.04169830202583062+0j)\n",
      "step 44 -- max element in state: 32,  max value in state:  (0.04720119918923702+0j)\n",
      "step 45 -- max element in state: 116,  max value in state:  (0.051966577615311704+0j)\n",
      "step 46 -- max element in state: 32,  max value in state:  (0.05591997826614698+0j)\n",
      "step 47 -- max element in state: 116,  max value in state:  (0.05899962925657372+0j)\n",
      "step 48 -- max element in state: 32,  max value in state:  (0.06115741103986644+0j)\n",
      "step 49 -- max element in state: 116,  max value in state:  (0.062359608275661435+0j)\n",
      "step 50 -- max element in state: 75,  max value in state:  (0.062587436632149+0j)\n",
      "step 51 -- max element in state: 186,  max value in state:  (0.15785017992512437+0j)\n",
      "step 52 -- max element in state: 186,  max value in state:  (0.2798085437872023+0j)\n",
      "step 53 -- max element in state: 186,  max value in state:  (0.39739489915260473+0j)\n",
      "step 54 -- max element in state: 186,  max value in state:  (0.508771959218748+0j)\n",
      "step 55 -- max element in state: 186,  max value in state:  (0.6121994574220985+0j)\n",
      "step 56 -- max element in state: 186,  max value in state:  (0.7060613391032278+0j)\n",
      "step 57 -- max element in state: 186,  max value in state:  (0.7888910123608691+0j)\n",
      "step 58 -- max element in state: 186,  max value in state:  (0.8593942635503723+0j)\n",
      "step 59 -- max element in state: 186,  max value in state:  (0.9164694793719034+0j)\n",
      "step 60 -- max element in state: 186,  max value in state:  (0.9592248595782484+0j)\n",
      "step 61 -- max element in state: 186,  max value in state:  (0.9869923513536805+0j)\n",
      "step 62 -- max element in state: 186,  max value in state:  (0.9993380876392144+0j)\n",
      "step 63 -- max element in state: 186,  max value in state:  (0.9960691663053837+0j)\n",
      "step 64 -- max element in state: 186,  max value in state:  (0.9772366642480321+0j)\n",
      "step 65 -- max element in state: 186,  max value in state:  (0.9431348393118039+0j)\n",
      "step 66 -- max element in state: 186,  max value in state:  (0.894296532511329+0j)\n",
      "step 67 -- max element in state: 186,  max value in state:  (0.8314848423903642+0j)\n",
      "step 68 -- max element in state: 186,  max value in state:  (0.7556812016070504+0j)\n",
      "step 69 -- max element in state: 186,  max value in state:  (0.6680700420486252+0j)\n",
      "step 70 -- max element in state: 186,  max value in state:  (0.5700202880831904+0j)\n",
      "step 71 -- max element in state: 186,  max value in state:  (0.4630639671164565+0j)\n",
      "step 72 -- max element in state: 186,  max value in state:  (0.3488722716635278+0j)\n",
      "step 73 -- max element in state: 186,  max value in state:  (0.229229446965857+0j)\n",
      "step 74 -- max element in state: 186,  max value in state:  (0.10600491215934474+0j)\n",
      "step 75 -- max element in state: 186,  max value in state:  (-0.018875949399657456+0j)\n",
      "step 76 -- max element in state: 14,  max value in state:  (-0.06197465296668073+0j)\n",
      "step 77 -- max element in state: 125,  max value in state:  (-0.06036968009780585+0j)\n",
      "step 78 -- max element in state: 224,  max value in state:  (-0.05782143097740291+0j)\n",
      "step 79 -- max element in state: 125,  max value in state:  (-0.05436972199797785+0j)\n",
      "step 80 -- max element in state: 224,  max value in state:  (-0.050068486112334554+0j)\n",
      "step 81 -- max element in state: 125,  max value in state:  (-0.04498493013118591+0j)\n",
      "step 82 -- max element in state: 224,  max value in state:  (-0.03919848461673769+0j)\n",
      "step 83 -- max element in state: 125,  max value in state:  (-0.032799562780152704+0j)\n",
      "step 84 -- max element in state: 14,  max value in state:  (-0.025888147775128045+0j)\n",
      "step 85 -- max element in state: 125,  max value in state:  (-0.0185722304611168+0j)\n",
      "step 86 -- max element in state: 14,  max value in state:  (-0.010966122046150743+0j)\n",
      "step 87 -- max element in state: 125,  max value in state:  (-0.003188667974213435+0j)\n",
      "step 88 -- max element in state: 14,  max value in state:  (0.004638609034820867+0j)\n",
      "step 89 -- max element in state: 125,  max value in state:  (0.012393407777686204+0j)\n",
      "step 90 -- max element in state: 14,  max value in state:  (0.019954559524025087+0j)\n",
      "step 91 -- max element in state: 125,  max value in state:  (0.02720392127780121+0j)\n",
      "step 92 -- max element in state: 14,  max value in state:  (0.03402822176161155+0j)\n",
      "step 93 -- max element in state: 125,  max value in state:  (0.04032083128039688+0j)\n",
      "step 94 -- max element in state: 16,  max value in state:  (0.045983427810425796+0j)\n",
      "step 95 -- max element in state: 125,  max value in state:  (0.050927533280917044+0j)\n",
      "step 96 -- max element in state: 224,  max value in state:  (0.05507589604389373+0j)\n",
      "step 97 -- max element in state: 125,  max value in state:  (0.05836369793118482+0j)\n",
      "step 98 -- max element in state: 224,  max value in state:  (0.06073956703830089+0j)\n",
      "step 99 -- max element in state: 125,  max value in state:  (0.062166380410443776+0j)\n"
     ]
    }
   ],
   "source": [
    "for s in range(100):\n",
    "    state = grover_circuit(combo, s)\n",
    "    print(f'step {s} -- max element in state: {np.argmax(state)},  max value in state:  {np.max(state)}')"
   ]
  },
  {
   "cell_type": "code",
   "execution_count": 47,
   "id": "b9ead8b5-e05e-4115-95f6-42b60d171372",
   "metadata": {},
   "outputs": [],
   "source": [
    "def oracle(combo):\n",
    "    \"\"\"Implement an oracle using a multi-controlled X gate.\n",
    "    \n",
    "    Args:\n",
    "        combo (list): A list of bits representing the secret combination.\n",
    "    \"\"\"\n",
    "    combo_str = ''.join(str(j) for j in combo)\n",
    "    ##################\n",
    "    # YOUR CODE HERE #\n",
    "    ##################\n",
    "    qml.MultiControlledX(control_wires = query_register, wires = aux, control_values = combo_str)\n"
   ]
  },
  {
   "cell_type": "code",
   "execution_count": 48,
   "id": "43de35c8-d7f1-4f3f-acd0-ddcec4446b4b",
   "metadata": {},
   "outputs": [],
   "source": [
    "def hadamard_transform(my_wires):\n",
    "    \"\"\"Apply the Hadamard transform on a given set of wires.\n",
    "    \n",
    "    Args:\n",
    "        my_wires (list[int]): A list of wires on which the Hadamard transform will act.\n",
    "    \"\"\"\n",
    "    for wire in my_wires:\n",
    "        qml.Hadamard(wires=wire)\n",
    "\n",
    "def diffusion():\n",
    "    \"\"\"Implement the diffusion operator using the Hadamard transform and \n",
    "    multi-controlled X.\"\"\"\n",
    "\n",
    "    ##################\n",
    "    # YOUR CODE HERE #\n",
    "    ##################\n",
    "    hadamard_transform(query_register)\n",
    "    qml.MultiControlledX(control_wires = query_register, \n",
    "                         wires = aux, \n",
    "                         control_values = '0'*len(query_register))\n",
    "                         \n",
    "    hadamard_transform(query_register)\n"
   ]
  },
  {
   "cell_type": "code",
   "execution_count": 54,
   "id": "2b25c5a9-e5d4-42af-912d-0875d800e529",
   "metadata": {},
   "outputs": [],
   "source": [
    "def grover_iter(combo, num_steps):\n",
    "    \"\"\"Run Grover search for a given secret combination and a number of iterations.\n",
    "    \n",
    "    Args:\n",
    "        combo (list[int]): The secret combination, represented as a list of bits.\n",
    "        num_steps (int): The number of Grover iterations to perform.\n",
    "\n",
    "    Returns: \n",
    "        array[float]: Probability for observing different outcomes.\n",
    "    \"\"\"\n",
    "    n_bits = len(combo)\n",
    "    query_register = list(range(n_bits))\n",
    "    aux = [n_bits]\n",
    "    all_wires = query_register+aux\n",
    "    dev = qml.device('default.qubit', wires=all_wires)\n",
    "\n",
    "    def hadamard_transform(my_wires):\n",
    "        \"\"\"Apply the Hadamard transform on a given set of wires.\n",
    "\n",
    "        Args:\n",
    "            my_wires (list[int]): A list of wires on which the Hadamard transform will act.\n",
    "        \"\"\"\n",
    "        for wire in my_wires:\n",
    "            qml.Hadamard(wires=wire)\n",
    "\n",
    "    def diffusion():\n",
    "        \"\"\"Implement the diffusion operator using the Hadamard transform and \n",
    "        multi-controlled X.\"\"\"\n",
    "\n",
    "        ##################\n",
    "        # YOUR CODE HERE #\n",
    "        ##################\n",
    "        hadamard_transform(query_register)\n",
    "        qml.MultiControlledX(control_wires = query_register, \n",
    "                             wires = aux, \n",
    "                             control_values = '0'*len(query_register))\n",
    "\n",
    "        hadamard_transform(query_register)\n",
    "    def oracle(combo):\n",
    "        \"\"\"Implement an oracle using a multi-controlled X gate.\n",
    "\n",
    "        Args:\n",
    "            combo (list): A list of bits representing the secret combination.\n",
    "        \"\"\"\n",
    "        combo_str = ''.join(str(j) for j in combo)\n",
    "        ##################\n",
    "        # YOUR CODE HERE #\n",
    "        ##################\n",
    "        qml.MultiControlledX(control_wires = query_register, wires = aux, control_values = combo_str)\n",
    "\n",
    "\n",
    "    @qml.qnode(dev)\n",
    "    def inner_circuit():\n",
    "        ##################\n",
    "        # YOUR CODE HERE #\n",
    "        ##################\n",
    "        # IMPLEMENT THE GROVER CIRCUIT\n",
    "        hadamard_transform(query_register)\n",
    "        qml.PauliX(aux)\n",
    "        qml.Hadamard(aux)\n",
    "        \n",
    "        for step in range(num_steps):\n",
    "            oracle(combo)\n",
    "            diffusion()\n",
    "        \n",
    "        return qml.probs(wires=query_register)\n",
    "    \n",
    "    return inner_circuit()\n"
   ]
  },
  {
   "cell_type": "code",
   "execution_count": 60,
   "id": "c66a7326-b660-4f55-a8c2-9c01f4281d41",
   "metadata": {},
   "outputs": [],
   "source": [
    "ic = grover_iter([0,0,0,0], 3)"
   ]
  },
  {
   "cell_type": "code",
   "execution_count": 70,
   "id": "d4d5cbf5-016c-444d-b196-b20fe90ea726",
   "metadata": {},
   "outputs": [],
   "source": [
    "import scipy\n",
    "from scipy.signal import find_peaks\n"
   ]
  },
  {
   "cell_type": "code",
   "execution_count": 81,
   "id": "c0f88186-3e03-4036-9c94-6edb8f350d95",
   "metadata": {},
   "outputs": [],
   "source": [
    "n_list = range(3,8)\n",
    "opt_steps = []\n",
    "\n",
    "for n_bits in n_list:\n",
    "    combo = \"0\"*n_bits # A simple combination\n",
    "    step_list = range(1,10) # Try out some large number of steps\n",
    "    #print(combo)\n",
    "    ##################\n",
    "    # YOUR CODE HERE #\n",
    "    ##################\n",
    "    \n",
    "    probs_0 =[ grover_iter(combo, step)[0] for step in step_list]\n",
    "    #print(probs_0)\n",
    "    #print(np.argmax(probs_0))\n",
    "    #print(find_peaks(probs_0))\n",
    "    opt_steps.append(find_peaks(probs_0)[0][0] + 1)"
   ]
  },
  {
   "cell_type": "code",
   "execution_count": 82,
   "id": "b3a45848-8f1d-4d1f-8a26-6b87ee108253",
   "metadata": {},
   "outputs": [
    {
     "data": {
      "text/plain": [
       "[2, 3, 4, 6, 8]"
      ]
     },
     "execution_count": 82,
     "metadata": {},
     "output_type": "execute_result"
    }
   ],
   "source": [
    "opt_steps"
   ]
  },
  {
   "cell_type": "code",
   "execution_count": 85,
   "id": "4f5f1ec5-0848-4a8e-82f1-20ed4721afdf",
   "metadata": {},
   "outputs": [],
   "source": [
    "log2S = np.log2(opt_steps)"
   ]
  },
  {
   "cell_type": "code",
   "execution_count": 86,
   "id": "20eab49e-d0ac-4339-b41c-7f2571f6e0a5",
   "metadata": {},
   "outputs": [],
   "source": [
    "import matplotlib.pyplot as plt"
   ]
  },
  {
   "cell_type": "code",
   "execution_count": 89,
   "id": "b76c4596-f6f7-4158-a082-33837d5aa285",
   "metadata": {},
   "outputs": [
    {
     "data": {
      "text/plain": [
       "tensor([1.       , 1.5849625, 2.       , 2.5849625, 3.       ], requires_grad=True)"
      ]
     },
     "execution_count": 89,
     "metadata": {},
     "output_type": "execute_result"
    }
   ],
   "source": [
    "log2S"
   ]
  },
  {
   "cell_type": "code",
   "execution_count": 87,
   "id": "eac589b3-d73e-40d2-84c5-72ec06c6fab5",
   "metadata": {},
   "outputs": [
    {
     "data": {
      "text/plain": [
       "[<matplotlib.lines.Line2D at 0x7f9bc5731af0>]"
      ]
     },
     "execution_count": 87,
     "metadata": {},
     "output_type": "execute_result"
    },
    {
     "data": {
      "image/png": "[encoded data removed]",
      "text/plain": [
       "<Figure size 432x288 with 1 Axes>"
      ]
     },
     "metadata": {
      "needs_background": "light"
     },
     "output_type": "display_data"
    }
   ],
   "source": [
    "plt.plot(n_list, log2S)"
   ]
  },
  {
   "cell_type": "code",
   "execution_count": 88,
   "id": "14d4e293-eb34-4943-b9e6-f0f9f91c7f31",
   "metadata": {},
   "outputs": [
    {
     "data": {
      "text/plain": [
       "LinregressResult(slope=0.5, intercept=-0.4660149997115375, rvalue=0.9982720188529153, pvalue=8.620446429172385e-05, stderr=0.01699250014423151, intercept_stderr=0.08829562079229135)"
      ]
     },
     "execution_count": 88,
     "metadata": {},
     "output_type": "execute_result"
    }
   ],
   "source": [
    "scipy.stats.linregress(n_list, log2S)"
   ]
  },
  {
   "cell_type": "code",
   "execution_count": 162,
   "id": "008a7f1c-a320-4c58-944e-6105eb9b40f5",
   "metadata": {},
   "outputs": [],
   "source": [
    "def grover_multi_iter(combos, num_steps):\n",
    "    \"\"\"Run Grover search for a given secret combination and a number of iterations.\n",
    "    \n",
    "    Args:\n",
    "        combo (list[int]): The secret combination, represented as a list of bits.\n",
    "        num_steps (int): The number of Grover iterations to perform.\n",
    "\n",
    "    Returns: \n",
    "        array[float]: Probability for observing different outcomes.\n",
    "    \"\"\"\n",
    "    n_bits = len(combos[0])\n",
    "    query_register = list(range(n_bits))\n",
    "    aux = [n_bits]\n",
    "    all_wires = query_register+aux\n",
    "    \n",
    "    # print(n_bits)\n",
    "    # print(query_register)\n",
    "    # print(aux)\n",
    "    # print(combos)\n",
    "    \n",
    "    dev = qml.device('default.qubit', wires=all_wires)\n",
    "\n",
    "    def hadamard_transform(my_wires):\n",
    "        \"\"\"Apply the Hadamard transform on a given set of wires.\n",
    "\n",
    "        Args:\n",
    "            my_wires (list[int]): A list of wires on which the Hadamard transform will act.\n",
    "        \"\"\"\n",
    "        for wire in my_wires:\n",
    "            qml.Hadamard(wires=wire)\n",
    "\n",
    "    def diffusion():\n",
    "        \"\"\"Implement the diffusion operator using the Hadamard transform and \n",
    "        multi-controlled X.\"\"\"\n",
    "\n",
    "        ##################\n",
    "        # YOUR CODE HERE #\n",
    "        ##################\n",
    "        hadamard_transform(query_register)\n",
    "        qml.MultiControlledX(control_wires = query_register, \n",
    "                             wires = aux, \n",
    "                             control_values = '0'*len(query_register))\n",
    "        hadamard_transform(query_register)\n",
    "        \n",
    "    def oracle(combo):\n",
    "        \"\"\"Implement an oracle using a multi-controlled X gate.\n",
    "\n",
    "        Args:\n",
    "            combo (list): A list of bits representing the secret combination.\n",
    "        \"\"\"\n",
    "        combo_str = ''.join(str(j) for j in combo)\n",
    "        ##################\n",
    "        # YOUR CODE HERE #\n",
    "        ##################\n",
    "        qml.MultiControlledX(control_wires = query_register, wires = aux, control_values = combo_str)\n",
    "\n",
    "    def oracle_multi(combos):\n",
    "        \"\"\"Implement multi-solution oracle using sequence of multi-controlled X gates.\n",
    "\n",
    "        Args:\n",
    "            combos (list[list[int]]): A list of solutions.\n",
    "        \"\"\"\n",
    "        for i, combo in enumerate(combos):\n",
    "            #print(f'combo [{i}] = {combo}')\n",
    "            combo_str = ''.join(str(j) for j in combo)\n",
    "            ##################\n",
    "            # YOUR CODE HERE #\n",
    "            ##################\n",
    "            # print(query_register)\n",
    "            # print(aux)\n",
    "            # print(combo_str)\n",
    "            qml.MultiControlledX(control_wires = query_register,\n",
    "                                 wires =aux,\n",
    "                                 control_values = combo_str)\n",
    "        \n",
    "    @qml.qnode(dev)\n",
    "    def inner_circuit():\n",
    "        ##################\n",
    "        # YOUR CODE HERE #\n",
    "        ##################\n",
    "        # IMPLEMENT THE GROVER CIRCUIT\n",
    "        hadamard_transform(query_register)\n",
    "        qml.PauliX(aux)\n",
    "        qml.Hadamard(aux)\n",
    "        \n",
    "        for step in range(num_steps):\n",
    "            oracle_multi(combos)\n",
    "            diffusion()\n",
    "        \n",
    "        return qml.probs(wires=query_register)\n",
    "    \n",
    "    return inner_circuit()\n"
   ]
  },
  {
   "cell_type": "code",
   "execution_count": 163,
   "id": "186cf989-8e09-4fda-9a6b-62185e55b9dc",
   "metadata": {},
   "outputs": [
    {
     "data": {
      "text/plain": [
       "tensor([0.45372462, 0.45372462, 0.00073453, 0.00073453, 0.00073453,\n",
       "        0.00073453, 0.00073453, 0.00073453, 0.00073453, 0.00073453,\n",
       "        0.00073453, 0.00073453, 0.00073453, 0.00073453, 0.00073453,\n",
       "        0.00073453, 0.00073453, 0.00073453, 0.00073453, 0.00073453,\n",
       "        0.00073453, 0.00073453, 0.00073453, 0.00073453, 0.00073453,\n",
       "        0.00073453, 0.00073453, 0.00073453, 0.00073453, 0.00073453,\n",
       "        0.00073453, 0.00073453, 0.00073453, 0.00073453, 0.00073453,\n",
       "        0.00073453, 0.00073453, 0.00073453, 0.00073453, 0.00073453,\n",
       "        0.00073453, 0.00073453, 0.00073453, 0.00073453, 0.00073453,\n",
       "        0.00073453, 0.00073453, 0.00073453, 0.00073453, 0.00073453,\n",
       "        0.00073453, 0.00073453, 0.00073453, 0.00073453, 0.00073453,\n",
       "        0.00073453, 0.00073453, 0.00073453, 0.00073453, 0.00073453,\n",
       "        0.00073453, 0.00073453, 0.00073453, 0.00073453, 0.00073453,\n",
       "        0.00073453, 0.00073453, 0.00073453, 0.00073453, 0.00073453,\n",
       "        0.00073453, 0.00073453, 0.00073453, 0.00073453, 0.00073453,\n",
       "        0.00073453, 0.00073453, 0.00073453, 0.00073453, 0.00073453,\n",
       "        0.00073453, 0.00073453, 0.00073453, 0.00073453, 0.00073453,\n",
       "        0.00073453, 0.00073453, 0.00073453, 0.00073453, 0.00073453,\n",
       "        0.00073453, 0.00073453, 0.00073453, 0.00073453, 0.00073453,\n",
       "        0.00073453, 0.00073453, 0.00073453, 0.00073453, 0.00073453,\n",
       "        0.00073453, 0.00073453, 0.00073453, 0.00073453, 0.00073453,\n",
       "        0.00073453, 0.00073453, 0.00073453, 0.00073453, 0.00073453,\n",
       "        0.00073453, 0.00073453, 0.00073453, 0.00073453, 0.00073453,\n",
       "        0.00073453, 0.00073453, 0.00073453, 0.00073453, 0.00073453,\n",
       "        0.00073453, 0.00073453, 0.00073453, 0.00073453, 0.00073453,\n",
       "        0.00073453, 0.00073453, 0.00073453], requires_grad=True)"
      ]
     },
     "execution_count": 163,
     "metadata": {},
     "output_type": "execute_result"
    }
   ],
   "source": [
    "grover_multi_iter([[0,0,0,0,0,0,0], [0,0,0,0,0,0,1]], 7)"
   ]
  },
  {
   "cell_type": "code",
   "execution_count": 195,
   "id": "a09c534f-12a3-4bda-bd0a-a9de745483a0",
   "metadata": {},
   "outputs": [
    {
     "name": "stdout",
     "output_type": "stream",
     "text": [
      "The optimal number of Grover steps for the number of solutions in [1, 2, 4, 8, 16] is [12, 8, 6, 4, 3] .\n"
     ]
    }
   ],
   "source": [
    "m_list = range(5)\n",
    "opt_steps = []\n",
    "n_bits = 8\n",
    "\n",
    "for m_bits in m_list:\n",
    "    #print(m_bits)\n",
    "    combos = [[int(s) for s in np.binary_repr(j, n_bits)] for j in range(2**m_bits)]\n",
    "    step_list = range(1,20)\n",
    "    ##################\n",
    "    # YOUR CODE HERE #\n",
    "    ##################\n",
    "    #print(combos) #combo = [0, 0, 0, ... 0] is always one of the solutions above\n",
    "#     for s in step_list:\n",
    "#         print(f'grover: {s}')\n",
    "#         print(grover_multi_iter(combos, s))\n",
    "#         opt_steps.append(find_peaks(probs_0)[0][0] + 1)\n",
    "    \n",
    "    probs_0 =[ grover_multi_iter(combos, step)[0] for step in step_list] # because [0, 0, ... 0] is always a combo, take the 0th element\n",
    "    #print(probs_0)\n",
    "    #try:\n",
    "    opt_steps.append(find_peaks(probs_0)[0][0] + 1)\n",
    "    #except IndexError as e:\n",
    "        #print(probs_0)\n",
    "    #    raise e\n",
    "    #opt_steps.append(local_max_arg(probs_0))\n",
    "    \n",
    "print(\"The optimal number of Grover steps for the number of solutions in\", [2**x for x in m_list], \"is\", opt_steps, \".\")\n"
   ]
  },
  {
   "cell_type": "code",
   "execution_count": 170,
   "id": "dacc5c79-d2ca-4422-8d4d-7ac578c5f147",
   "metadata": {},
   "outputs": [
    {
     "data": {
      "text/plain": [
       "[tensor(0.11816406, requires_grad=True),\n",
       " tensor(0.22711182, requires_grad=True),\n",
       " tensor(0.24032974, requires_grad=True),\n",
       " tensor(0.14542603, requires_grad=True),\n",
       " tensor(0.03137292, requires_grad=True),\n",
       " tensor(0.00509519, requires_grad=True),\n",
       " tensor(0.09122822, requires_grad=True),\n",
       " tensor(0.20902229, requires_grad=True),\n",
       " tensor(0.24804547, requires_grad=True)]"
      ]
     },
     "execution_count": 170,
     "metadata": {},
     "output_type": "execute_result"
    }
   ],
   "source": [
    "probs_0"
   ]
  },
  {
   "cell_type": "code",
   "execution_count": 176,
   "id": "5d57870c-8641-438d-ad27-de5c381f7e4f",
   "metadata": {},
   "outputs": [],
   "source": [
    "def plot_and_fit(opt_steps, n_list):\n",
    "    log2S = np.log2(opt_steps)\n",
    "    plt.plot(n_list, log2S)\n",
    "    return scipy.stats.linregress(n_list, log2S)"
   ]
  },
  {
   "cell_type": "code",
   "execution_count": 196,
   "id": "381f5966-4eab-48ea-924d-2e558f3f0890",
   "metadata": {},
   "outputs": [
    {
     "data": {
      "text/plain": [
       "LinregressResult(slope=-0.5, intercept=3.5509775004326936, rvalue=-0.9982720188529153, pvalue=8.620446429172385e-05, stderr=0.01699250014423151, intercept_stderr=0.04162295480753675)"
      ]
     },
     "execution_count": 196,
     "metadata": {},
     "output_type": "execute_result"
    },
    {
     "data": {
      "image/png": "[encoded data removed]",
      "text/plain": [
       "<Figure size 432x288 with 1 Axes>"
      ]
     },
     "metadata": {
      "needs_background": "light"
     },
     "output_type": "display_data"
    }
   ],
   "source": [
    "plot_and_fit(opt_steps, m_list)"
   ]
  },
  {
   "cell_type": "code",
   "execution_count": 197,
   "id": "93c13d58-cdb3-4bd8-b421-fd614fafa780",
   "metadata": {},
   "outputs": [
    {
     "data": {
      "text/plain": [
       "3.651496129472319"
      ]
     },
     "execution_count": 197,
     "metadata": {},
     "output_type": "execute_result"
    }
   ],
   "source": [
    "np.log2(np.pi*np.sqrt(2**n_bits)/4)"
   ]
  },
  {
   "cell_type": "code",
   "execution_count": null,
   "id": "928fb686-733a-43d2-ad62-5e7bf5427af2",
   "metadata": {},
   "outputs": [],
   "source": []
  }
 ],
 "metadata": {
  "kernelspec": {
   "display_name": "Python 3 (ipykernel)",
   "language": "python",
   "name": "python3"
  },
  "language_info": {
   "codemirror_mode": {
    "name": "ipython",
    "version": 3
   },
   "file_extension": ".py",
   "mimetype": "text/x-python",
   "name": "python",
   "nbconvert_exporter": "python",
   "pygments_lexer": "ipython3",
   "version": "3.9.7"
  }
 },
 "nbformat": 4,
 "nbformat_minor": 5
}
