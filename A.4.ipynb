{
 "cells": [
  {
   "cell_type": "code",
   "execution_count": 1,
   "id": "a9483aca-5a86-4167-a3bf-9b19494ff4af",
   "metadata": {},
   "outputs": [],
   "source": [
    "from pennylane import numpy as np\n",
    "import pennylane as qml"
   ]
  },
  {
   "cell_type": "code",
   "execution_count": 5,
   "id": "18ca5c65-f646-455c-bc98-ff6501288cd6",
   "metadata": {},
   "outputs": [],
   "source": [
    "n_bits = 4\n",
    "dev = qml.device(\"default.qubit\", wires=n_bits)\n",
    "\n",
    "def multisol_oracle_matrix(combos):\n",
    "    \"\"\"Return the oracle matrix for a set of solutions.\n",
    "\n",
    "    Args:\n",
    "        combos (list[list[int]]): A list of secret bit strings.\n",
    "\n",
    "    Returns:\n",
    "        array[float]: The matrix representation of the oracle.\n",
    "    \"\"\"\n",
    "    indices = [np.ravel_multi_index(combo, [2]*len(combo)) for combo in combos]\n",
    "    ##################\n",
    "    # YOUR CODE HERE #\n",
    "    ##################\n",
    "    my_array = np.identity(2**len(combos[0])) # Create the identity matrix\n",
    "    for index in indices:\n",
    "        my_array[index, index] = -1\n",
    "    return my_array\n",
    "\n",
    "@qml.qnode(dev)\n",
    "def multisol_pair_circuit(x_tilde, combos):\n",
    "    \"\"\"Implements the circuit for testing a pair of combinations labelled by x_tilde.\n",
    "    \n",
    "    Args:\n",
    "        x_tilde (list[int]): An (n_bits - 1)-bit string labelling the pair to test.\n",
    "        combos (list[list[int]]): A list of secret bit strings.\n",
    "\n",
    "    Returns:\n",
    "        array[float]: Probabilities on the last qubit.\n",
    "    \"\"\"\n",
    "    for i in range(n_bits-1): # Initialize x_tilde part of state\n",
    "        if x_tilde[i] == 1:\n",
    "            qml.PauliX(wires=i)\n",
    "\n",
    "    ##################\n",
    "    # YOUR CODE HERE #\n",
    "    ##################\n",
    "    qml.Hadamard(wires=n_bits-1)\n",
    "    qml.QubitUnitary(oracle_matrix(combos), wires=range(n_bits))\n",
    "    qml.Hadamard(wires=n_bits-1)\n",
    "\n",
    "    return qml.probs(wires=n_bits-1)"
   ]
  },
  {
   "cell_type": "code",
   "execution_count": 6,
   "id": "ac2adc3e-633a-41d3-bcdc-98fb990035e4",
   "metadata": {},
   "outputs": [],
   "source": [
    "def parity_checker(combos):\n",
    "    \"\"\"Use multisol_pair_circuit to determine the parity of a solution set.\n",
    "\n",
    "    Args:\n",
    "        combos (list[list[int]]): A list of secret combinations.\n",
    "\n",
    "    Returns: \n",
    "        int: The parity of the solution set.\n",
    "    \"\"\"\n",
    "    parity = 0\n",
    "    x_tilde_strs = [np.binary_repr(n, n_bits-1) for n in range(2**(n_bits-1))]\n",
    "    x_tildes = [[int(s) for s in x_tilde_str] for x_tilde_str in x_tilde_strs]\n",
    "    for x_tilde in x_tildes:\n",
    "\n",
    "        ##################\n",
    "        # YOUR CODE HERE #\n",
    "        ##################\n",
    "\n",
    "        # IMPLEMENT PARITY COUNTING ALGORITHM\n",
    "        prob_of_one = multisol_pair_circuit(x_tilde, combos)[1]\n",
    "        if np.isclose(prob_of_one, 1.0):\n",
    "            parity += 1\n",
    "                \n",
    "    return parity % 2\n"
   ]
  },
  {
   "cell_type": "code",
   "execution_count": 4,
   "id": "c0d8e6aa-f27c-4e6b-9063-da97b028db4b",
   "metadata": {},
   "outputs": [],
   "source": [
    "n_bits = 4\n",
    "dev = qml.device(\"default.qubit\", wires=n_bits)\n",
    "\n",
    "@qml.qnode(dev)\n",
    "def pair_circuit(x_tilde, combo):\n",
    "    \"\"\"Test a pair labelled by x_tilde for the presence of a solution.\n",
    "    \n",
    "    Args:\n",
    "        x_tilde (list[int]): An (n_bits - 1)-string labelling the pair to test.\n",
    "        combo (list[int]): A secret combination of n_bits 0s and 1s.\n",
    "        \n",
    "    Returns:\n",
    "        array[float]: Probabilities on the last qubit.\n",
    "    \"\"\"\n",
    "    for i in range(n_bits-1): # Initialize x_tilde part of state\n",
    "        if x_tilde[i] == 1:\n",
    "            qml.PauliX(wires=i)\n",
    "\n",
    "    ##################\n",
    "    # YOUR CODE HERE #\n",
    "    ##################\n",
    "    qml.Hadamard(wires=n_bits-1)\n",
    "    qml.QubitUnitary(oracle_matrix(combo), wires=range(n_bits))\n",
    "    qml.Hadamard(wires=n_bits-1)\n",
    "    return qml.probs(wires=n_bits-1)\n"
   ]
  },
  {
   "cell_type": "code",
   "execution_count": 21,
   "id": "a13e2de2-eabe-4761-a77d-338bb3c669dc",
   "metadata": {},
   "outputs": [],
   "source": [
    "def secret_combo(n_bits):\n",
    "    x_tilde_strs = [np.binary_repr(n, n_bits) for n in range(2**(n_bits))]\n",
    "    x_tildes = [[int(s) for s in x_tilde_str] for x_tilde_str in x_tilde_strs]\n",
    "    #print(x_tildes)\n",
    "    rand_idx = np.random.choice(range(len(x_tildes)), size=1)[0]\n",
    "    #print(rand_idx)\n",
    "    return x_tildes[rand_idx]\n"
   ]
  },
  {
   "cell_type": "code",
   "execution_count": 24,
   "id": "fa88cc31-baba-45d6-994d-c6794876d136",
   "metadata": {},
   "outputs": [
    {
     "data": {
      "text/plain": [
       "[[1, 0, 0, 1],\n",
       " [1, 1, 1, 0],\n",
       " [1, 1, 1, 0],\n",
       " [1, 1, 1, 0],\n",
       " [1, 0, 0, 1],\n",
       " [0, 0, 1, 0],\n",
       " [1, 0, 1, 0],\n",
       " [0, 1, 1, 0],\n",
       " [0, 0, 0, 1],\n",
       " [1, 0, 1, 0]]"
      ]
     },
     "execution_count": 24,
     "metadata": {},
     "output_type": "execute_result"
    }
   ],
   "source": [
    "[secret_combo(n_bits) for i in range(10)]"
   ]
  },
  {
   "cell_type": "code",
   "execution_count": 26,
   "id": "52ff97e1-11b3-4a3e-b811-66453cbdee17",
   "metadata": {},
   "outputs": [],
   "source": [
    "combo = secret_combo(n_bits)"
   ]
  },
  {
   "cell_type": "code",
   "execution_count": 28,
   "id": "b284dfb9-03f7-467a-ac5e-63b2d2926e76",
   "metadata": {},
   "outputs": [
    {
     "data": {
      "text/plain": [
       "[0, 0, 0, 0]"
      ]
     },
     "execution_count": 28,
     "metadata": {},
     "output_type": "execute_result"
    }
   ],
   "source": [
    "combo"
   ]
  },
  {
   "cell_type": "code",
   "execution_count": 32,
   "id": "72647eda-1b0b-4955-a5cc-d28aa6e97117",
   "metadata": {},
   "outputs": [],
   "source": [
    "x_tilde = [0,0,0]"
   ]
  },
  {
   "cell_type": "code",
   "execution_count": 35,
   "id": "9487fa0d-14cb-417d-82eb-f07deee0ea50",
   "metadata": {},
   "outputs": [
    {
     "data": {
      "text/plain": [
       "tensor(1., requires_grad=True)"
      ]
     },
     "execution_count": 35,
     "metadata": {},
     "output_type": "execute_result"
    }
   ],
   "source": [
    "pair_circuit(x_tilde, combo)[1]"
   ]
  },
  {
   "cell_type": "code",
   "execution_count": 37,
   "id": "ea31d265-b12e-481c-ad7b-5287e1b5bd13",
   "metadata": {},
   "outputs": [],
   "source": [
    "def pair_lock_picker(trials):\n",
    "    \"\"\"Create a combo, run pair_circuit until it succeeds, and tally success rate.\n",
    "    \n",
    "    Args:\n",
    "        trials (int): Number of times to test the lock picker.\n",
    "\n",
    "    Returns:\n",
    "        float: The average number of times the lock picker uses pair_circuit.\n",
    "    \"\"\"\n",
    "    x_tilde_strs = [np.binary_repr(n, n_bits-1) for n in range(2**(n_bits-1))]\n",
    "    x_tildes = [[int(s) for s in x_tilde_str] for x_tilde_str in x_tilde_strs] \n",
    "\n",
    "    test_numbers = []\n",
    "\n",
    "    for trial in range(trials):\n",
    "        combo = secret_combo(n_bits) # Random list of bits\n",
    "        counter = 0\n",
    "        for x_tilde in x_tildes:\n",
    "            counter += 1\n",
    "\n",
    "            ##################\n",
    "            # YOUR CODE HERE #\n",
    "            ##################\n",
    "            prob_of_one = pair_circuit(x_tilde, combo)[1]\n",
    "            if np.isclose(prob_of_one, 1.0):\n",
    "                break\n",
    "        test_numbers.append(counter)\n",
    "    return sum(test_numbers)/trials"
   ]
  },
  {
   "cell_type": "code",
   "execution_count": 38,
   "id": "97d6a927-96ab-4119-8fd4-f9150240af90",
   "metadata": {},
   "outputs": [
    {
     "name": "stdout",
     "output_type": "stream",
     "text": [
      "For 4 bits, it takes 4.497 pair tests on average.\n"
     ]
    }
   ],
   "source": [
    "trials = 1000\n",
    "output = pair_lock_picker(trials)\n",
    "\n",
    "print(f\"For {n_bits} bits, it takes\", output, \"pair tests on average.\")"
   ]
  },
  {
   "cell_type": "code",
   "execution_count": null,
   "id": "56589bf9-72fa-4e53-91c0-8bb895ce2c50",
   "metadata": {},
   "outputs": [],
   "source": []
  }
 ],
 "metadata": {
  "kernelspec": {
   "display_name": "Python 3 (ipykernel)",
   "language": "python",
   "name": "python3"
  },
  "language_info": {
   "codemirror_mode": {
    "name": "ipython",
    "version": 3
   },
   "file_extension": ".py",
   "mimetype": "text/x-python",
   "name": "python",
   "nbconvert_exporter": "python",
   "pygments_lexer": "ipython3",
   "version": "3.9.7"
  }
 },
 "nbformat": 4,
 "nbformat_minor": 5
}
