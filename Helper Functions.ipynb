{
 "cells": [
  {
   "cell_type": "code",
   "execution_count": 2,
   "id": "ed6caac0-826b-4019-9853-6688f99bad5b",
   "metadata": {},
   "outputs": [],
   "source": [
    "from pennylane import numpy as np"
   ]
  },
  {
   "cell_type": "code",
   "execution_count": null,
   "id": "60109786-123e-4f2c-a59b-f8c85e70ac0f",
   "metadata": {},
   "outputs": [],
   "source": [
    "dev = qml.device(\"default.qubit\", wires=5)\n",
    "estimation_wires = [0, 1, 2]\n",
    "target_wires = [3, 4]\n"
   ]
  },
  {
   "cell_type": "code",
   "execution_count": null,
   "id": "54448360-02cc-4a26-b3ed-05528c1e9871",
   "metadata": {},
   "outputs": [],
   "source": [
    "def prepare_eigenvector_superposition(alpha, beta, gamma, delta):\n",
    "    # Normalize alpha, beta, gamma, and delta\n",
    "    norm_squared = np.abs(alpha) ** 2 + np.abs(beta) ** 2 + np.abs(gamma) ** 2 + np.abs(delta) ** 2 \n",
    "    norm = np.sqrt(norm_squared)\n",
    "    state = np.array([alpha/norm, beta/norm, gamma/norm, delta/norm])\n",
    "    \n",
    "    #Prepare the state\n",
    "    qml.MottonenStatePreparation(state, wires=target_wires)"
   ]
  },
  {
   "cell_type": "code",
   "execution_count": null,
   "id": "f7e6bdbc-523f-45c2-b123-904f310a576c",
   "metadata": {},
   "outputs": [],
   "source": []
  },
  {
   "cell_type": "code",
   "execution_count": 4,
   "id": "316983a5-1ba9-402b-8f25-a15d176e078e",
   "metadata": {},
   "outputs": [
    {
     "data": {
      "text/plain": [
       "202"
      ]
     },
     "execution_count": 4,
     "metadata": {},
     "output_type": "execute_result"
    }
   ],
   "source": [
    "#convert binary representation to integer\n",
    "binary_rep = [0,1,1,0,0,1,0,1,0]\n",
    "np.ravel_multi_index(binary_rep, [2]*len(binary_rep))"
   ]
  },
  {
   "cell_type": "code",
   "execution_count": null,
   "id": "c84c9abb-21b4-4adb-b8ba-b418682f0e01",
   "metadata": {},
   "outputs": [],
   "source": []
  }
 ],
 "metadata": {
  "kernelspec": {
   "display_name": "Python 3 (ipykernel)",
   "language": "python",
   "name": "python3"
  },
  "language_info": {
   "codemirror_mode": {
    "name": "ipython",
    "version": 3
   },
   "file_extension": ".py",
   "mimetype": "text/x-python",
   "name": "python",
   "nbconvert_exporter": "python",
   "pygments_lexer": "ipython3",
   "version": "3.9.7"
  }
 },
 "nbformat": 4,
 "nbformat_minor": 5
}
