{
 "cells": [
  {
   "cell_type": "code",
   "execution_count": 1,
   "id": "4e368e04-2a93-4895-8b40-f2555cad0278",
   "metadata": {},
   "outputs": [],
   "source": [
    "from pennylane import numpy as np\n",
    "import pennylane as qml"
   ]
  },
  {
   "cell_type": "code",
   "execution_count": 10,
   "id": "ad1d6e4e-4441-47b6-92d7-65931eb9d6da",
   "metadata": {},
   "outputs": [
    {
     "name": "stdout",
     "output_type": "stream",
     "text": [
      "[0. 1.]\n"
     ]
    }
   ],
   "source": [
    "dev = qml.device(\"default.qubit\", wires=2, shots=1)\n",
    "\n",
    "@qml.qnode(dev)\n",
    "def guess_the_unitary(unitary):\n",
    "    \"\"\"Given a unitary that performs a Z or a -Z operation\n",
    "    on a qubit, guess which one it is.\n",
    "    \n",
    "    Args: \n",
    "        U (array[complex]): A unitary matrix, guaranteed to be either Z or -Z.\n",
    "    \n",
    "    Returns:\n",
    "        array [int]:  Probabilities on  on the first qubit\n",
    "        using qml.probs()\n",
    "    \"\"\"\n",
    "    ##################\n",
    "    # YOUR CODE HERE #\n",
    "    ##################  \n",
    "    qml.Hadamard(wires=0)\n",
    "    qml.ctrl(qml.QubitUnitary, control=0)(unitary, wires=1)\n",
    "    qml.Hadamard(wires=0)\n",
    "    \n",
    "    return qml.probs(wires=0) #qml.expval(qml.PauliZ(0))\n",
    "\n",
    "# Z gate \n",
    "U = qml.PauliZ.matrix \n",
    "\n",
    "# -Z gate\n",
    "U = (-1)*qml.PauliZ.matrix\n",
    "\n",
    "print(guess_the_unitary(U))"
   ]
  },
  {
   "cell_type": "code",
   "execution_count": 9,
   "id": "c88b0242-58a0-450b-9078-04c2f15ef6c8",
   "metadata": {},
   "outputs": [
    {
     "data": {
      "text/plain": [
       "\u001b[0;31mSignature:\u001b[0m \u001b[0mqml\u001b[0m\u001b[0;34m.\u001b[0m\u001b[0mprobs\u001b[0m\u001b[0;34m(\u001b[0m\u001b[0mwires\u001b[0m\u001b[0;34m=\u001b[0m\u001b[0;32mNone\u001b[0m\u001b[0;34m,\u001b[0m \u001b[0mop\u001b[0m\u001b[0;34m=\u001b[0m\u001b[0;32mNone\u001b[0m\u001b[0;34m)\u001b[0m\u001b[0;34m\u001b[0m\u001b[0;34m\u001b[0m\u001b[0m\n",
       "\u001b[0;31mDocstring:\u001b[0m\n",
       "Probability of each computational basis state.\n",
       "\n",
       "This measurement function accepts either a wire specification or\n",
       "an observable. Passing wires to the function\n",
       "instructs the QNode to return a flat array containing the\n",
       "probabilities :math:`|\\langle i | \\psi \\rangle |^2` of measuring\n",
       "the computational basis state :math:`| i \\rangle` given the current\n",
       "state :math:`| \\psi \\rangle`.\n",
       "\n",
       "Marginal probabilities may also be requested by restricting\n",
       "the wires to a subset of the full system; the size of the\n",
       "returned array will be ``[2**len(wires)]``.\n",
       "\n",
       "**Example:**\n",
       "\n",
       ".. code-block:: python3\n",
       "\n",
       "    dev = qml.device(\"default.qubit\", wires=2)\n",
       "\n",
       "    @qml.qnode(dev)\n",
       "    def circuit():\n",
       "        qml.Hadamard(wires=1)\n",
       "        return qml.probs(wires=[0, 1])\n",
       "\n",
       "Executing this QNode:\n",
       "\n",
       ">>> circuit()\n",
       "array([0.5, 0.5, 0. , 0. ])\n",
       "\n",
       "The returned array is in lexicographic order, so corresponds\n",
       "to a :math:`50\\%` chance of measuring either :math:`|00\\rangle`\n",
       "or :math:`|01\\rangle`.\n",
       "\n",
       ".. code-block:: python3\n",
       "\n",
       "    dev = qml.device(\"default.qubit\", wires=2)\n",
       "\n",
       "    H = 1 / np.sqrt(2) * np.array([[1, 1], [1, -1]])\n",
       "\n",
       "    @qml.qnode(dev)\n",
       "    def circuit():\n",
       "        qml.PauliZ(wires=0)\n",
       "        qml.PauliX(wires=1)\n",
       "        return qml.probs(op=qml.Hermitian(H, wires=0))\n",
       "\n",
       ">>> circuit()\n",
       "\n",
       "array([0.14644661 0.85355339])\n",
       "\n",
       "The returned array is in lexicographic order, so corresponds\n",
       "to a :math:`14.6\\%` chance of measuring the rotated :math:`|0\\rangle` state\n",
       "and :math:`85.4\\%` of measuring the rotated :math:`|1\\rangle` state.\n",
       "\n",
       "Args:\n",
       "    wires (Sequence[int] or int): the wire the operation acts on\n",
       "    op (Observable): Observable (with a diagonalzing_gates attribute) that rotates\n",
       "     the computational basis\n",
       "\u001b[0;31mFile:\u001b[0m      ~/miniconda3/envs/quantum/lib/python3.9/site-packages/pennylane/measure.py\n",
       "\u001b[0;31mType:\u001b[0m      function\n"
      ]
     },
     "metadata": {},
     "output_type": "display_data"
    }
   ],
   "source": [
    "qml.probs?"
   ]
  },
  {
   "cell_type": "code",
   "execution_count": null,
   "id": "0ac4f6a0-0677-4a84-85e1-0399e3e85d73",
   "metadata": {},
   "outputs": [],
   "source": []
  }
 ],
 "metadata": {
  "kernelspec": {
   "display_name": "Python 3 (ipykernel)",
   "language": "python",
   "name": "python3"
  },
  "language_info": {
   "codemirror_mode": {
    "name": "ipython",
    "version": 3
   },
   "file_extension": ".py",
   "mimetype": "text/x-python",
   "name": "python",
   "nbconvert_exporter": "python",
   "pygments_lexer": "ipython3",
   "version": "3.9.7"
  }
 },
 "nbformat": 4,
 "nbformat_minor": 5
}
