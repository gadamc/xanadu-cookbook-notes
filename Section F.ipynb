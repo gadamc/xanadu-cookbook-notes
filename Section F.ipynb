{
 "cells": [
  {
   "cell_type": "code",
   "execution_count": 1,
   "id": "846e6a41-777d-47b0-90d0-84e7e295b91f",
   "metadata": {},
   "outputs": [],
   "source": [
    "from pennylane import numpy as np\n",
    "import pennylane as qml"
   ]
  },
  {
   "cell_type": "code",
   "execution_count": 23,
   "id": "3fd23adc-6c93-4ba6-868b-c692c25cb5b2",
   "metadata": {},
   "outputs": [],
   "source": [
    "n_bits = 2\n",
    "\n",
    "dev = qml.device(\"default.qubit\", wires=n_bits)\n",
    "\n",
    "@qml.qnode(dev)\n",
    "def decompose_two_qubit_QFT(basis_id, with_swap = False):\n",
    "    \"\"\"A circuit that computes the QFT on two qubits using elementary gates.\n",
    "    \n",
    "    Args:\n",
    "        basis_id (int): An integer value identifying the basis state to construct.\n",
    "    \n",
    "    Returns:\n",
    "        array[complex]: The state of the qubits after the QFT operation.\n",
    "    \"\"\"\n",
    "    # Prepare the basis state |basis_id>\n",
    "    if type(basis_id) == type(0):\n",
    "        bits = [int(x) for x in np.binary_repr(basis_id, width=dev.num_wires)]\n",
    "    elif type(basis_id) == type('0'):\n",
    "        bits = [int(x) for x in basis_id]\n",
    "    qml.BasisStatePreparation(bits, wires=[0, 1])\n",
    "    \n",
    "    ##################\n",
    "    # YOUR CODE HERE #\n",
    "    ##################\n",
    "    \n",
    "    qml.Hadamard(wires = 0)\n",
    "        \n",
    "    qml.ctrl(qml.S, control=1)(wires=0)\n",
    "\n",
    "    qml.Hadamard(wires = 1)\n",
    "\n",
    "    #swaps the inner rows\n",
    "    if with_swap:\n",
    "        qml.QubitUnitary(np.array([[1,0,0,0],\n",
    "                                   [0,0,1,0],\n",
    "                                   [0,1,0,0],\n",
    "                                   [0,0,0,1]]),\n",
    "                         wires=range(dev.num_wires)\n",
    "                        )\n",
    "                    \n",
    "    return qml.state()\n",
    "\n",
    "\n",
    "@qml.qnode(dev)\n",
    "def two_qubit_QFT(basis_id):\n",
    "    \"\"\"A circuit that computes the QFT on two qubits using qml.QubitUnitary. \n",
    "    \n",
    "    Args:\n",
    "        basis_id (int): An integer value identifying the basis state to construct.\n",
    "    \n",
    "    Returns:\n",
    "        array[complex]: The state of the qubits after the QFT operation.\n",
    "    \"\"\"\n",
    "    \n",
    "    # Prepare the basis state |basis_id>\n",
    "    if type(basis_id) == type(0):\n",
    "        bits = [int(x) for x in np.binary_repr(basis_id, width=dev.num_wires)]\n",
    "    elif type(basis_id) == type('0'):\n",
    "        bits = [int(x) for x in basis_id]\n",
    "    qml.BasisStatePreparation(bits, wires=[0, 1])\n",
    "    \n",
    "    ##################\n",
    "    # YOUR CODE HERE #\n",
    "    ##################\n",
    "    N = 2**n_bits\n",
    "    omega = np.exp(2.0*np.pi*1j/N)\n",
    "\n",
    "    U = np.zeros(shape = (N,N), dtype=complex)\n",
    "    for i in range(N):\n",
    "        for j in range(N):\n",
    "            U[i][j] = omega**(i * j)\n",
    "    \n",
    "    U = U / np.sqrt(N)\n",
    "    \n",
    "    qml.QubitUnitary(U, wires=range(n_bits))\n",
    "    return qml.state()\n"
   ]
  },
  {
   "cell_type": "code",
   "execution_count": 29,
   "id": "c791df35-0f1d-467e-92da-4303d79a8268",
   "metadata": {},
   "outputs": [
    {
     "name": "stdout",
     "output_type": "stream",
     "text": [
      "00\n",
      "[0.5+0.j 0.5+0.j 0.5+0.j 0.5+0.j]\n",
      "[0.5+0.j 0.5+0.j 0.5+0.j 0.5+0.j]\n",
      "01\n",
      "[ 0.5+0.j   0. +0.5j -0.5+0.j  -0. -0.5j]\n",
      "[ 0.5+0.j   0. +0.5j -0.5+0.j  -0. -0.5j]\n",
      "10\n",
      "[ 0.5+0.j -0.5+0.j  0.5+0.j -0.5+0.j]\n",
      "[ 0.5+0.j -0.5+0.j  0.5-0.j -0.5+0.j]\n",
      "11\n",
      "[ 0.5+0.j  -0. -0.5j -0.5+0.j   0. +0.5j]\n",
      "[ 0.5+0.j  -0. -0.5j -0.5+0.j   0. +0.5j]\n"
     ]
    }
   ],
   "source": [
    "for ss in ['00','01','10','11']:\n",
    "    print(ss)\n",
    "    print(np.around(decompose_two_qubit_QFT(ss, True),8))\n",
    "    print(np.around(two_qubit_QFT(ss),8))"
   ]
  },
  {
   "cell_type": "code",
   "execution_count": 5,
   "id": "e274e10e-ab5c-44d3-b7cb-c5fafc665b8d",
   "metadata": {},
   "outputs": [
    {
     "data": {
      "text/plain": [
       "tensor([1.+0.j, 0.+0.j, 0.+0.j, 0.+0.j], requires_grad=True)"
      ]
     },
     "execution_count": 5,
     "metadata": {},
     "output_type": "execute_result"
    }
   ],
   "source": [
    "decompose_two_qubit_QFT(0)"
   ]
  },
  {
   "cell_type": "code",
   "execution_count": 6,
   "id": "a5e210a8-aa7b-456e-8098-4221f75ffe0c",
   "metadata": {},
   "outputs": [
    {
     "data": {
      "text/plain": [
       "tensor([0.+0.j, 1.+0.j, 0.+0.j, 0.+0.j], requires_grad=True)"
      ]
     },
     "execution_count": 6,
     "metadata": {},
     "output_type": "execute_result"
    }
   ],
   "source": [
    "decompose_two_qubit_QFT('01')"
   ]
  },
  {
   "cell_type": "code",
   "execution_count": 7,
   "id": "9beb1f7f-74b0-43d1-a3fd-9c0601728590",
   "metadata": {},
   "outputs": [
    {
     "data": {
      "text/plain": [
       "tensor([0.+0.j, 0.+0.j, 1.+0.j, 0.+0.j], requires_grad=True)"
      ]
     },
     "execution_count": 7,
     "metadata": {},
     "output_type": "execute_result"
    }
   ],
   "source": [
    "decompose_two_qubit_QFT('10')"
   ]
  },
  {
   "cell_type": "code",
   "execution_count": 13,
   "id": "d150c7b1-3312-4674-a162-f96ae46e75be",
   "metadata": {},
   "outputs": [
    {
     "data": {
      "text/plain": [
       "tensor([ 5.000000e-01+0.j , -3.061617e-17-0.5j, -5.000000e-01+0.j ,\n",
       "         3.061617e-17+0.5j], requires_grad=True)"
      ]
     },
     "execution_count": 13,
     "metadata": {},
     "output_type": "execute_result"
    }
   ],
   "source": [
    "decompose_two_qubit_QFT('11')"
   ]
  },
  {
   "cell_type": "code",
   "execution_count": 14,
   "id": "23b094b1-a529-4c22-b188-ce3e9c700e5a",
   "metadata": {},
   "outputs": [
    {
     "data": {
      "text/plain": [
       "tensor([ 5.000000e-01+0.j , -5.000000e-01+0.j , -3.061617e-17-0.5j,\n",
       "         3.061617e-17+0.5j], requires_grad=True)"
      ]
     },
     "execution_count": 14,
     "metadata": {},
     "output_type": "execute_result"
    }
   ],
   "source": [
    "decompose_two_qubit_QFT('11', True)"
   ]
  },
  {
   "cell_type": "code",
   "execution_count": 79,
   "id": "f9fa262d-e061-42ca-a742-2acc2789ef74",
   "metadata": {},
   "outputs": [],
   "source": [
    "def three_qubit_QFT(num_wires):\n",
    "    #act on qubit 0\n",
    "    print(f'hadamard 0')\n",
    "    k=2\n",
    "    omega = 2*np.pi/2**k\n",
    "    print(f'rot {k}: omega {omega}, control by 1, act on 0')\n",
    "    \n",
    "    k=3\n",
    "    omega = 2*np.pi/2**k\n",
    "    print(f'rot {k}: omega {omega}, control by 2, act on 0')\n",
    "    \n",
    "    #act on qubit 1\n",
    "    print('hadamard 1')\n",
    "    k = 2\n",
    "    omega = 2*np.pi/2**k\n",
    "    print(f'rot {k}: omega {omega}, control by 2, act on 1')\n",
    "    \n",
    "    #act on qubit 2\n",
    "    print('hadamard 2')\n",
    "\n",
    "    #swap\n",
    "    print('swap 0 <-> 2')"
   ]
  },
  {
   "cell_type": "code",
   "execution_count": 76,
   "id": "1a13f89f-178d-4c0d-8ea0-55852b0e6db5",
   "metadata": {},
   "outputs": [],
   "source": [
    "def n_qubit_QFT(num_wires):\n",
    "    \"\"\"A circuit that computes the QFT on three qubits.\n",
    "    \n",
    "    Args:\n",
    "        basis_id (int): An integer value identifying the basis state to construct.\n",
    "        \n",
    "    Returns:\n",
    "        array[complex]: The state of the qubits after the QFT operation.\n",
    "    \"\"\"\n",
    "    # Prepare the basis state |basis_id>\n",
    "    #bits = [int(x) for x in np.binary_repr(basis_id, width=dev.num_wires)]\n",
    "    #qml.BasisStatePreparation(bits, wires=[0, 1, 2])\n",
    "    \n",
    "    ##################\n",
    "    # YOUR CODE HERE #\n",
    "    ################## \n",
    "\n",
    "    for wire in range(1,num_wires+1):\n",
    "        #qml.Hadamard(wires=wire)\n",
    "        print(f'hadmard: {wire - 1}')\n",
    "        for i, w in enumerate(range(wire+1, num_wires+1)):\n",
    "            k = i + 2\n",
    "            #print(f'k:{k}')\n",
    "            omega = 2*np.pi/2**k\n",
    "            print(f'rot {k}: omega {omega}, control by {w - 1}, act on {wire - 1}')\n",
    "            #qml.ctrl(qml.RZ(2*np.pi*1j/(2**k)), control=wire+k)\n",
    "            \n",
    "    for w in range(num_wires//2):\n",
    "        print(f'swap {w} <-> {num_wires-w-1}')\n",
    "        \n",
    "        \n",
    "#     for wire in range(1, dev.num_wires+1):\n",
    "#         qml.Hadamard(wires=wire-1)\n",
    "#         for i, w in enumerate(range(wire+1, dev.num_wires+1)):\n",
    "#             k = i+2\n",
    "#             qml.CRZ(2*np.pi*1j/(2**k), wires=[w-1, wire-1])\n",
    "#             #qml.ctrl(qml.RZ(2*np.pi*1j/(2**k)), control=w-1)(wires=wire)\n",
    "            \n",
    "#     for wire in range(dev.num_wires//2):\n",
    "#         qml.SWAP(wires=[wire,dev.num_wires-wire-1])\n",
    "        \n",
    "#     return qml.state()\n",
    "\n",
    "# for wire in range(1, dev.num_wires+1):\n",
    "#         qml.Hadamard(wires=wire-1)\n",
    "#         for i, w in enumerate(range(wire+1, dev.num_wires+1)):\n",
    "#             k = i+2\n",
    "#             qml.CRZ(2*np.pi*1j/(2**k), wires=[w-1, wire-1])\n",
    "#             #qml.ctrl(qml.RZ(2*np.pi*1j/(2**k)), control=w-1)(wires=wire)\n",
    "            \n",
    "#     for wire in range(dev.num_wires//2):\n",
    "#         qml.SWAP(wires=[wire,dev.num_wires-wire-1])\n",
    "        \n",
    "#     return qml.state()"
   ]
  },
  {
   "cell_type": "code",
   "execution_count": 80,
   "id": "3f99664d-7db0-4819-97f8-7775688fca61",
   "metadata": {},
   "outputs": [
    {
     "name": "stdout",
     "output_type": "stream",
     "text": [
      "hadamard 0\n",
      "rot 2: omega 1.5707963267948966, control by 1, act on 0\n",
      "rot 3: omega 0.7853981633974483, control by 2, act on 0\n",
      "hadamard 1\n",
      "rot 2: omega 1.5707963267948966, control by 2, act on 1\n",
      "hadamard 2\n",
      "swap 0 <-> 2\n"
     ]
    }
   ],
   "source": [
    "three_qubit_QFT(3)"
   ]
  },
  {
   "cell_type": "code",
   "execution_count": 78,
   "id": "bd7713b1-d184-48d5-9f8c-1bf9112e20b2",
   "metadata": {},
   "outputs": [
    {
     "name": "stdout",
     "output_type": "stream",
     "text": [
      "hadmard: 0\n",
      "rot 2: omega 1.5707963267948966, control by 1, act on 0\n",
      "rot 3: omega 0.7853981633974483, control by 2, act on 0\n",
      "hadmard: 1\n",
      "rot 2: omega 1.5707963267948966, control by 2, act on 1\n",
      "hadmard: 2\n",
      "swap 0 <-> 2\n"
     ]
    }
   ],
   "source": [
    "n_qubit_QFT(3)"
   ]
  },
  {
   "cell_type": "code",
   "execution_count": 74,
   "id": "d00b8736-df6f-43ab-846a-9423bc468fa5",
   "metadata": {},
   "outputs": [
    {
     "name": "stdout",
     "output_type": "stream",
     "text": [
      "hadmard: 0\n",
      "rot 2: omega 1.5707963267948966j, control by 1, act on 0\n",
      "rot 3: omega 0.7853981633974483j, control by 2, act on 0\n",
      "rot 4: omega 0.39269908169872414j, control by 3, act on 0\n",
      "hadmard: 1\n",
      "rot 2: omega 1.5707963267948966j, control by 2, act on 1\n",
      "rot 3: omega 0.7853981633974483j, control by 3, act on 1\n",
      "hadmard: 2\n",
      "rot 2: omega 1.5707963267948966j, control by 3, act on 2\n",
      "hadmard: 3\n",
      "swap 0 <-> 3\n",
      "swap 1 <-> 2\n"
     ]
    }
   ],
   "source": [
    "n_qubit_QFT(4)"
   ]
  },
  {
   "cell_type": "code",
   "execution_count": 75,
   "id": "6ccd158b-1b0a-4df0-b95d-d2a9be26c775",
   "metadata": {},
   "outputs": [
    {
     "name": "stdout",
     "output_type": "stream",
     "text": [
      "hadmard: 0\n",
      "rot 2: omega 1.5707963267948966j, control by 1, act on 0\n",
      "rot 3: omega 0.7853981633974483j, control by 2, act on 0\n",
      "rot 4: omega 0.39269908169872414j, control by 3, act on 0\n",
      "rot 5: omega 0.19634954084936207j, control by 4, act on 0\n",
      "hadmard: 1\n",
      "rot 2: omega 1.5707963267948966j, control by 2, act on 1\n",
      "rot 3: omega 0.7853981633974483j, control by 3, act on 1\n",
      "rot 4: omega 0.39269908169872414j, control by 4, act on 1\n",
      "hadmard: 2\n",
      "rot 2: omega 1.5707963267948966j, control by 3, act on 2\n",
      "rot 3: omega 0.7853981633974483j, control by 4, act on 2\n",
      "hadmard: 3\n",
      "rot 2: omega 1.5707963267948966j, control by 4, act on 3\n",
      "hadmard: 4\n",
      "swap 0 <-> 4\n",
      "swap 1 <-> 3\n"
     ]
    }
   ],
   "source": [
    "n_qubit_QFT(5)"
   ]
  },
  {
   "cell_type": "code",
   "execution_count": 81,
   "id": "475bcc82-e21e-4787-9a1a-20213ef31e91",
   "metadata": {},
   "outputs": [],
   "source": [
    "def build_fft(n_bits):\n",
    "    dev = qml.device(\"default.qubit\", wires=n_bits)\n",
    "\n",
    "    @qml.qnode(dev)\n",
    "    def fft_circuit(basis_id):\n",
    "        if type(basis_id) == type(0):\n",
    "            bits = [int(x) for x in np.binary_repr(basis_id, width=dev.num_wires)]\n",
    "        elif type(basis_id) == type('0'):\n",
    "            bits = [int(x) for x in basis_id]\n",
    "        \n",
    "        qml.BasisStatePreparation(bits, wires=range(dev.num_wires))\n",
    "        qml.QFT(wires=range(dev.num_wires))\n",
    "        return qml.state()\n",
    "    \n",
    "    return fft_circuit"
   ]
  },
  {
   "cell_type": "code",
   "execution_count": 86,
   "id": "10ea453c-be09-4a9a-bcc1-b752e4369442",
   "metadata": {},
   "outputs": [
    {
     "data": {
      "text/plain": [
       "tensor([0.35355339+0.j, 0.35355339+0.j, 0.35355339+0.j, 0.35355339+0.j,\n",
       "        0.35355339+0.j, 0.35355339+0.j, 0.35355339+0.j, 0.35355339+0.j], requires_grad=True)"
      ]
     },
     "execution_count": 86,
     "metadata": {},
     "output_type": "execute_result"
    }
   ],
   "source": [
    "build_fft(3)('000')"
   ]
  },
  {
   "cell_type": "code",
   "execution_count": 101,
   "id": "59851f0c-530b-4458-b7ca-7d4bc96985b4",
   "metadata": {},
   "outputs": [],
   "source": [
    "dev = qml.device(\"default.qubit\", wires=3)\n",
    "\n",
    "@qml.qnode(dev)\n",
    "def three_qubit_QFT(basis_id):\n",
    "    \"\"\"A circuit that computes the QFT on three qubits.\n",
    "    \n",
    "    Args:\n",
    "        basis_id (int): An integer value identifying the basis state to construct.\n",
    "        \n",
    "    Returns:\n",
    "        array[complex]: The state of the qubits after the QFT operation.\n",
    "    \"\"\"\n",
    "    # Prepare the basis state |basis_id>\n",
    "    if type(basis_id) == type(0):\n",
    "        bits = [int(x) for x in np.binary_repr(basis_id, width=dev.num_wires)]\n",
    "    elif type(basis_id) == type('0'):\n",
    "        bits = [int(x) for x in basis_id]\n",
    "            \n",
    "    qml.BasisStatePreparation(bits, wires=[0, 1, 2])\n",
    "    \n",
    "    ##################\n",
    "    # YOUR CODE HERE #\n",
    "    ################## \n",
    "    def omega(k):\n",
    "        return 2.0*np.pi/(2**k)\n",
    "        \n",
    "    qml.Hadamard(0)\n",
    "    qml.ctrl(qml.PhaseShift, control=1)(omega(2), wires=0)\n",
    "    qml.ctrl(qml.PhaseShift, control=2)(omega(3), wires=0)\n",
    "    #qml.CRZ(omega(2), wires=[1,0])\n",
    "    #qml.CRZ(omega(3), wires=[2,0])\n",
    "    \n",
    "    qml.Hadamard(1)\n",
    "    qml.ctrl(qml.PhaseShift, control=2)(omega(2), wires=1)\n",
    "\n",
    "    #qml.CRZ(omega(2), wires=[2,1])\n",
    "    \n",
    "    qml.Hadamard(2)\n",
    "    \n",
    "    qml.SWAP(wires=[0,2])\n",
    "    return qml.state()"
   ]
  },
  {
   "cell_type": "code",
   "execution_count": 102,
   "id": "c5f0827a-31ad-4c9b-aab5-32c4e4952ec3",
   "metadata": {},
   "outputs": [
    {
     "data": {
      "text/plain": [
       "tensor([0.35355339+0.j, 0.35355339+0.j, 0.35355339+0.j, 0.35355339+0.j,\n",
       "        0.35355339+0.j, 0.35355339+0.j, 0.35355339+0.j, 0.35355339+0.j], requires_grad=True)"
      ]
     },
     "execution_count": 102,
     "metadata": {},
     "output_type": "execute_result"
    }
   ],
   "source": [
    "three_qubit_QFT(0)"
   ]
  },
  {
   "cell_type": "code",
   "execution_count": 103,
   "id": "ab8794fb-ce57-4df2-a56b-daed3290bd28",
   "metadata": {},
   "outputs": [
    {
     "name": "stdout",
     "output_type": "stream",
     "text": [
      "0\n",
      "[0.35355339+0.j 0.35355339+0.j 0.35355339+0.j 0.35355339+0.j\n",
      " 0.35355339+0.j 0.35355339+0.j 0.35355339+0.j 0.35355339+0.j]\n",
      "[0.35355339+0.j 0.35355339+0.j 0.35355339+0.j 0.35355339+0.j\n",
      " 0.35355339+0.j 0.35355339+0.j 0.35355339+0.j 0.35355339+0.j]\n",
      "1\n",
      "[ 0.35355339+0.j          0.25      +0.25j        0.        +0.35355339j\n",
      " -0.25      +0.25j       -0.35355339+0.j         -0.25      -0.25j\n",
      " -0.        -0.35355339j  0.25      -0.25j      ]\n",
      "[ 0.35355339+0.j          0.25      +0.25j        0.        +0.35355339j\n",
      " -0.25      +0.25j       -0.35355339+0.j         -0.25      -0.25j\n",
      " -0.        -0.35355339j  0.25      -0.25j      ]\n",
      "2\n",
      "[ 0.35355339+0.j          0.        +0.35355339j -0.35355339+0.j\n",
      " -0.        -0.35355339j  0.35355339-0.j          0.        +0.35355339j\n",
      " -0.35355339+0.j         -0.        -0.35355339j]\n",
      "[ 0.35355339+0.j          0.        +0.35355339j -0.35355339+0.j\n",
      " -0.        -0.35355339j  0.35355339+0.j          0.        +0.35355339j\n",
      " -0.35355339+0.j         -0.        -0.35355339j]\n",
      "3\n",
      "[ 0.35355339+0.j         -0.25      +0.25j       -0.        -0.35355339j\n",
      "  0.25      +0.25j       -0.35355339+0.j          0.25      -0.25j\n",
      "  0.        +0.35355339j -0.25      -0.25j      ]\n",
      "[ 0.35355339+0.j         -0.25      +0.25j       -0.        -0.35355339j\n",
      "  0.25      +0.25j       -0.35355339+0.j          0.25      -0.25j\n",
      "  0.        +0.35355339j -0.25      -0.25j      ]\n",
      "4\n",
      "[ 0.35355339+0.j -0.35355339+0.j  0.35355339-0.j -0.35355339+0.j\n",
      "  0.35355339-0.j -0.35355339+0.j  0.35355339-0.j -0.35355339+0.j]\n",
      "[ 0.35355339+0.j -0.35355339+0.j  0.35355339+0.j -0.35355339+0.j\n",
      "  0.35355339+0.j -0.35355339+0.j  0.35355339+0.j -0.35355339+0.j]\n",
      "5\n",
      "[ 0.35355339+0.j         -0.25      -0.25j        0.        +0.35355339j\n",
      "  0.25      -0.25j       -0.35355339+0.j          0.25      +0.25j\n",
      " -0.        -0.35355339j -0.25      +0.25j      ]\n",
      "[ 0.35355339+0.j         -0.25      -0.25j        0.        +0.35355339j\n",
      "  0.25      -0.25j       -0.35355339+0.j          0.25      +0.25j\n",
      " -0.        -0.35355339j -0.25      +0.25j      ]\n",
      "6\n",
      "[ 0.35355339+0.j         -0.        -0.35355339j -0.35355339+0.j\n",
      "  0.        +0.35355339j  0.35355339-0.j         -0.        -0.35355339j\n",
      " -0.35355339+0.j          0.        +0.35355339j]\n",
      "[ 0.35355339+0.j         -0.        -0.35355339j -0.35355339+0.j\n",
      "  0.        +0.35355339j  0.35355339+0.j         -0.        -0.35355339j\n",
      " -0.35355339+0.j          0.        +0.35355339j]\n",
      "7\n",
      "[ 0.35355339+0.j          0.25      -0.25j       -0.        -0.35355339j\n",
      " -0.25      -0.25j       -0.35355339+0.j         -0.25      +0.25j\n",
      "  0.        +0.35355339j  0.25      +0.25j      ]\n",
      "[ 0.35355339+0.j          0.25      -0.25j       -0.        -0.35355339j\n",
      " -0.25      -0.25j       -0.35355339+0.j         -0.25      +0.25j\n",
      "  0.        +0.35355339j  0.25      +0.25j      ]\n"
     ]
    }
   ],
   "source": [
    "for i in range(2**3):\n",
    "    print(i)\n",
    "    print(np.around(build_fft(3)(i), 8))\n",
    "    print(np.around(three_qubit_QFT(i), 8))\n",
    "    "
   ]
  },
  {
   "cell_type": "code",
   "execution_count": 107,
   "id": "59cd8ce8-f359-4844-b88e-bcc6e03463d1",
   "metadata": {},
   "outputs": [],
   "source": [
    "def build_n_qubit_fft(n_bits):\n",
    "    \n",
    "    def omega(k):\n",
    "        return 2.0*np.pi/(2**k)\n",
    "    \n",
    "    dev = qml.device(\"default.qubit\", wires=n_bits)\n",
    "    @qml.qnode(dev)\n",
    "    def fft_circuit(basis_id):\n",
    "        if type(basis_id) == type(0):\n",
    "            bits = [int(x) for x in np.binary_repr(basis_id, width=dev.num_wires)]\n",
    "        elif type(basis_id) == type('0'):\n",
    "            bits = [int(x) for x in basis_id]\n",
    "        \n",
    "        qml.BasisStatePreparation(bits, wires=range(dev.num_wires))\n",
    "        \n",
    "        for wire in range(1, n_bits+1):\n",
    "            qml.Hadamard(wires=wire-1)\n",
    "            for i, w in enumerate(range(wire+1, n_bits+1)):\n",
    "                k = i+2\n",
    "                qml.ctrl(qml.PhaseShift, control=w-1)(omega(k), wires=wire-1)\n",
    "            \n",
    "        for w in range(n_bits//2):\n",
    "            qml.SWAP(wires=[w,n_bits-w-1])\n",
    "        \n",
    "        return qml.state()\n",
    "    \n",
    "    return fft_circuit"
   ]
  },
  {
   "cell_type": "code",
   "execution_count": 110,
   "id": "a315695e-ddce-4f7e-808a-c66a4841c0da",
   "metadata": {},
   "outputs": [
    {
     "name": "stdout",
     "output_type": "stream",
     "text": [
      "0\n",
      "[0.25+0.j 0.25+0.j 0.25+0.j 0.25+0.j 0.25+0.j 0.25+0.j 0.25+0.j 0.25+0.j\n",
      " 0.25+0.j 0.25+0.j 0.25+0.j 0.25+0.j 0.25+0.j 0.25+0.j 0.25+0.j 0.25+0.j]\n",
      "[0.25+0.j 0.25+0.j 0.25+0.j 0.25+0.j 0.25+0.j 0.25+0.j 0.25+0.j 0.25+0.j\n",
      " 0.25+0.j 0.25+0.j 0.25+0.j 0.25+0.j 0.25+0.j 0.25+0.j 0.25+0.j 0.25+0.j]\n",
      "1\n",
      "[ 0.25      +0.j          0.23096988+0.09567086j  0.1767767 +0.1767767j\n",
      "  0.09567086+0.23096988j -0.        +0.25j       -0.09567086+0.23096988j\n",
      " -0.1767767 +0.1767767j  -0.23096988+0.09567086j -0.25      -0.j\n",
      " -0.23096988-0.09567086j -0.1767767 -0.1767767j  -0.09567086-0.23096988j\n",
      "  0.        -0.25j        0.09567086-0.23096988j  0.1767767 -0.1767767j\n",
      "  0.23096988-0.09567086j]\n",
      "[ 0.25      +0.j          0.23096988+0.09567086j  0.1767767 +0.1767767j\n",
      "  0.09567086+0.23096988j  0.        +0.25j       -0.09567086+0.23096988j\n",
      " -0.1767767 +0.1767767j  -0.23096988+0.09567086j -0.25      +0.j\n",
      " -0.23096988-0.09567086j -0.1767767 -0.1767767j  -0.09567086-0.23096988j\n",
      " -0.        -0.25j        0.09567086-0.23096988j  0.1767767 -0.1767767j\n",
      "  0.23096988-0.09567086j]\n",
      "2\n",
      "[ 0.25     +0.j         0.1767767+0.1767767j -0.       +0.25j\n",
      " -0.1767767+0.1767767j -0.25     -0.j        -0.1767767-0.1767767j\n",
      "  0.       -0.25j       0.1767767-0.1767767j  0.25     +0.j\n",
      "  0.1767767+0.1767767j -0.       +0.25j      -0.1767767+0.1767767j\n",
      " -0.25     -0.j        -0.1767767-0.1767767j  0.       -0.25j\n",
      "  0.1767767-0.1767767j]\n",
      "[ 0.25     +0.j         0.1767767+0.1767767j  0.       +0.25j\n",
      " -0.1767767+0.1767767j -0.25     +0.j        -0.1767767-0.1767767j\n",
      " -0.       -0.25j       0.1767767-0.1767767j  0.25     +0.j\n",
      "  0.1767767+0.1767767j  0.       +0.25j      -0.1767767+0.1767767j\n",
      " -0.25     +0.j        -0.1767767-0.1767767j -0.       -0.25j\n",
      "  0.1767767-0.1767767j]\n",
      "3\n",
      "[ 0.25      +0.j          0.09567086+0.23096988j -0.1767767 +0.1767767j\n",
      " -0.23096988-0.09567086j  0.        -0.25j        0.23096988-0.09567086j\n",
      "  0.1767767 +0.1767767j  -0.09567086+0.23096988j -0.25      -0.j\n",
      " -0.09567086-0.23096988j  0.1767767 -0.1767767j   0.23096988+0.09567086j\n",
      " -0.        +0.25j       -0.23096988+0.09567086j -0.1767767 -0.1767767j\n",
      "  0.09567086-0.23096988j]\n",
      "[ 0.25      +0.j          0.09567086+0.23096988j -0.1767767 +0.1767767j\n",
      " -0.23096988-0.09567086j -0.        -0.25j        0.23096988-0.09567086j\n",
      "  0.1767767 +0.1767767j  -0.09567086+0.23096988j -0.25      +0.j\n",
      " -0.09567086-0.23096988j  0.1767767 -0.1767767j   0.23096988+0.09567086j\n",
      "  0.        +0.25j       -0.23096988+0.09567086j -0.1767767 -0.1767767j\n",
      "  0.09567086-0.23096988j]\n",
      "4\n",
      "[ 0.25+0.j   -0.  +0.25j -0.25-0.j    0.  -0.25j  0.25+0.j   -0.  +0.25j\n",
      " -0.25-0.j    0.  -0.25j  0.25+0.j   -0.  +0.25j -0.25-0.j    0.  -0.25j\n",
      "  0.25+0.j   -0.  +0.25j -0.25-0.j    0.  -0.25j]\n",
      "[ 0.25+0.j    0.  +0.25j -0.25+0.j   -0.  -0.25j  0.25+0.j    0.  +0.25j\n",
      " -0.25+0.j   -0.  -0.25j  0.25+0.j    0.  +0.25j -0.25+0.j   -0.  -0.25j\n",
      "  0.25+0.j    0.  +0.25j -0.25+0.j   -0.  -0.25j]\n",
      "5\n",
      "[ 0.25      +0.j         -0.09567086+0.23096988j -0.1767767 -0.1767767j\n",
      "  0.23096988-0.09567086j -0.        +0.25j       -0.23096988-0.09567086j\n",
      "  0.1767767 -0.1767767j   0.09567086+0.23096988j -0.25      -0.j\n",
      "  0.09567086-0.23096988j  0.1767767 +0.1767767j  -0.23096988+0.09567086j\n",
      "  0.        -0.25j        0.23096988+0.09567086j -0.1767767 +0.1767767j\n",
      " -0.09567086-0.23096988j]\n",
      "[ 0.25      +0.j         -0.09567086+0.23096988j -0.1767767 -0.1767767j\n",
      "  0.23096988-0.09567086j  0.        +0.25j       -0.23096988-0.09567086j\n",
      "  0.1767767 -0.1767767j   0.09567086+0.23096988j -0.25      +0.j\n",
      "  0.09567086-0.23096988j  0.1767767 +0.1767767j  -0.23096988+0.09567086j\n",
      " -0.        -0.25j        0.23096988+0.09567086j -0.1767767 +0.1767767j\n",
      " -0.09567086-0.23096988j]\n",
      "6\n",
      "[ 0.25     +0.j        -0.1767767+0.1767767j  0.       -0.25j\n",
      "  0.1767767+0.1767767j -0.25     -0.j         0.1767767-0.1767767j\n",
      " -0.       +0.25j      -0.1767767-0.1767767j  0.25     +0.j\n",
      " -0.1767767+0.1767767j  0.       -0.25j       0.1767767+0.1767767j\n",
      " -0.25     -0.j         0.1767767-0.1767767j -0.       +0.25j\n",
      " -0.1767767-0.1767767j]\n",
      "[ 0.25     +0.j        -0.1767767+0.1767767j -0.       -0.25j\n",
      "  0.1767767+0.1767767j -0.25     +0.j         0.1767767-0.1767767j\n",
      "  0.       +0.25j      -0.1767767-0.1767767j  0.25     +0.j\n",
      " -0.1767767+0.1767767j -0.       -0.25j       0.1767767+0.1767767j\n",
      " -0.25     +0.j         0.1767767-0.1767767j  0.       +0.25j\n",
      " -0.1767767-0.1767767j]\n",
      "7\n",
      "[ 0.25      +0.j         -0.23096988+0.09567086j  0.1767767 -0.1767767j\n",
      " -0.09567086+0.23096988j  0.        -0.25j        0.09567086+0.23096988j\n",
      " -0.1767767 -0.1767767j   0.23096988+0.09567086j -0.25      -0.j\n",
      "  0.23096988-0.09567086j -0.1767767 +0.1767767j   0.09567086-0.23096988j\n",
      " -0.        +0.25j       -0.09567086-0.23096988j  0.1767767 +0.1767767j\n",
      " -0.23096988-0.09567086j]\n",
      "[ 0.25      +0.j         -0.23096988+0.09567086j  0.1767767 -0.1767767j\n",
      " -0.09567086+0.23096988j -0.        -0.25j        0.09567086+0.23096988j\n",
      " -0.1767767 -0.1767767j   0.23096988+0.09567086j -0.25      +0.j\n",
      "  0.23096988-0.09567086j -0.1767767 +0.1767767j   0.09567086-0.23096988j\n",
      "  0.        +0.25j       -0.09567086-0.23096988j  0.1767767 +0.1767767j\n",
      " -0.23096988-0.09567086j]\n",
      "8\n",
      "[ 0.25+0.j -0.25-0.j  0.25+0.j -0.25-0.j  0.25+0.j -0.25-0.j  0.25+0.j\n",
      " -0.25-0.j  0.25+0.j -0.25-0.j  0.25+0.j -0.25-0.j  0.25+0.j -0.25-0.j\n",
      "  0.25+0.j -0.25-0.j]\n",
      "[ 0.25+0.j -0.25+0.j  0.25+0.j -0.25+0.j  0.25+0.j -0.25+0.j  0.25+0.j\n",
      " -0.25+0.j  0.25+0.j -0.25+0.j  0.25+0.j -0.25+0.j  0.25+0.j -0.25+0.j\n",
      "  0.25+0.j -0.25+0.j]\n",
      "9\n",
      "[ 0.25      +0.j         -0.23096988-0.09567086j  0.1767767 +0.1767767j\n",
      " -0.09567086-0.23096988j -0.        +0.25j        0.09567086-0.23096988j\n",
      " -0.1767767 +0.1767767j   0.23096988-0.09567086j -0.25      -0.j\n",
      "  0.23096988+0.09567086j -0.1767767 -0.1767767j   0.09567086+0.23096988j\n",
      "  0.        -0.25j       -0.09567086+0.23096988j  0.1767767 -0.1767767j\n",
      " -0.23096988+0.09567086j]\n",
      "[ 0.25      +0.j         -0.23096988-0.09567086j  0.1767767 +0.1767767j\n",
      " -0.09567086-0.23096988j  0.        +0.25j        0.09567086-0.23096988j\n",
      " -0.1767767 +0.1767767j   0.23096988-0.09567086j -0.25      +0.j\n",
      "  0.23096988+0.09567086j -0.1767767 -0.1767767j   0.09567086+0.23096988j\n",
      " -0.        -0.25j       -0.09567086+0.23096988j  0.1767767 -0.1767767j\n",
      " -0.23096988+0.09567086j]\n",
      "10\n",
      "[ 0.25     +0.j        -0.1767767-0.1767767j -0.       +0.25j\n",
      "  0.1767767-0.1767767j -0.25     -0.j         0.1767767+0.1767767j\n",
      "  0.       -0.25j      -0.1767767+0.1767767j  0.25     +0.j\n",
      " -0.1767767-0.1767767j -0.       +0.25j       0.1767767-0.1767767j\n",
      " -0.25     -0.j         0.1767767+0.1767767j  0.       -0.25j\n",
      " -0.1767767+0.1767767j]\n",
      "[ 0.25     +0.j        -0.1767767-0.1767767j  0.       +0.25j\n",
      "  0.1767767-0.1767767j -0.25     +0.j         0.1767767+0.1767767j\n",
      " -0.       -0.25j      -0.1767767+0.1767767j  0.25     +0.j\n",
      " -0.1767767-0.1767767j  0.       +0.25j       0.1767767-0.1767767j\n",
      " -0.25     +0.j         0.1767767+0.1767767j -0.       -0.25j\n",
      " -0.1767767+0.1767767j]\n",
      "11\n",
      "[ 0.25      +0.j         -0.09567086-0.23096988j -0.1767767 +0.1767767j\n",
      "  0.23096988+0.09567086j  0.        -0.25j       -0.23096988+0.09567086j\n",
      "  0.1767767 +0.1767767j   0.09567086-0.23096988j -0.25      -0.j\n",
      "  0.09567086+0.23096988j  0.1767767 -0.1767767j  -0.23096988-0.09567086j\n",
      " -0.        +0.25j        0.23096988-0.09567086j -0.1767767 -0.1767767j\n",
      " -0.09567086+0.23096988j]\n",
      "[ 0.25      +0.j         -0.09567086-0.23096988j -0.1767767 +0.1767767j\n",
      "  0.23096988+0.09567086j -0.        -0.25j       -0.23096988+0.09567086j\n",
      "  0.1767767 +0.1767767j   0.09567086-0.23096988j -0.25      +0.j\n",
      "  0.09567086+0.23096988j  0.1767767 -0.1767767j  -0.23096988-0.09567086j\n",
      "  0.        +0.25j        0.23096988-0.09567086j -0.1767767 -0.1767767j\n",
      " -0.09567086+0.23096988j]\n",
      "12\n",
      "[ 0.25+0.j    0.  -0.25j -0.25-0.j   -0.  +0.25j  0.25+0.j    0.  -0.25j\n",
      " -0.25-0.j   -0.  +0.25j  0.25+0.j    0.  -0.25j -0.25-0.j   -0.  +0.25j\n",
      "  0.25+0.j    0.  -0.25j -0.25-0.j   -0.  +0.25j]\n",
      "[ 0.25+0.j   -0.  -0.25j -0.25+0.j    0.  +0.25j  0.25+0.j   -0.  -0.25j\n",
      " -0.25+0.j    0.  +0.25j  0.25+0.j   -0.  -0.25j -0.25+0.j    0.  +0.25j\n",
      "  0.25+0.j   -0.  -0.25j -0.25+0.j    0.  +0.25j]\n",
      "13\n",
      "[ 0.25      +0.j          0.09567086-0.23096988j -0.1767767 -0.1767767j\n",
      " -0.23096988+0.09567086j -0.        +0.25j        0.23096988+0.09567086j\n",
      "  0.1767767 -0.1767767j  -0.09567086-0.23096988j -0.25      -0.j\n",
      " -0.09567086+0.23096988j  0.1767767 +0.1767767j   0.23096988-0.09567086j\n",
      "  0.        -0.25j       -0.23096988-0.09567086j -0.1767767 +0.1767767j\n",
      "  0.09567086+0.23096988j]\n",
      "[ 0.25      +0.j          0.09567086-0.23096988j -0.1767767 -0.1767767j\n",
      " -0.23096988+0.09567086j  0.        +0.25j        0.23096988+0.09567086j\n",
      "  0.1767767 -0.1767767j  -0.09567086-0.23096988j -0.25      +0.j\n",
      " -0.09567086+0.23096988j  0.1767767 +0.1767767j   0.23096988-0.09567086j\n",
      " -0.        -0.25j       -0.23096988-0.09567086j -0.1767767 +0.1767767j\n",
      "  0.09567086+0.23096988j]\n",
      "14\n",
      "[ 0.25     +0.j         0.1767767-0.1767767j  0.       -0.25j\n",
      " -0.1767767-0.1767767j -0.25     -0.j        -0.1767767+0.1767767j\n",
      " -0.       +0.25j       0.1767767+0.1767767j  0.25     +0.j\n",
      "  0.1767767-0.1767767j  0.       -0.25j      -0.1767767-0.1767767j\n",
      " -0.25     -0.j        -0.1767767+0.1767767j -0.       +0.25j\n",
      "  0.1767767+0.1767767j]\n",
      "[ 0.25     +0.j         0.1767767-0.1767767j -0.       -0.25j\n",
      " -0.1767767-0.1767767j -0.25     +0.j        -0.1767767+0.1767767j\n",
      "  0.       +0.25j       0.1767767+0.1767767j  0.25     +0.j\n",
      "  0.1767767-0.1767767j -0.       -0.25j      -0.1767767-0.1767767j\n",
      " -0.25     +0.j        -0.1767767+0.1767767j  0.       +0.25j\n",
      "  0.1767767+0.1767767j]\n",
      "15\n",
      "[ 0.25      +0.j          0.23096988-0.09567086j  0.1767767 -0.1767767j\n",
      "  0.09567086-0.23096988j  0.        -0.25j       -0.09567086-0.23096988j\n",
      " -0.1767767 -0.1767767j  -0.23096988-0.09567086j -0.25      -0.j\n",
      " -0.23096988+0.09567086j -0.1767767 +0.1767767j  -0.09567086+0.23096988j\n",
      " -0.        +0.25j        0.09567086+0.23096988j  0.1767767 +0.1767767j\n",
      "  0.23096988+0.09567086j]\n",
      "[ 0.25      +0.j          0.23096988-0.09567086j  0.1767767 -0.1767767j\n",
      "  0.09567086-0.23096988j -0.        -0.25j       -0.09567086-0.23096988j\n",
      " -0.1767767 -0.1767767j  -0.23096988-0.09567086j -0.25      +0.j\n",
      " -0.23096988+0.09567086j -0.1767767 +0.1767767j  -0.09567086+0.23096988j\n",
      "  0.        +0.25j        0.09567086+0.23096988j  0.1767767 +0.1767767j\n",
      "  0.23096988+0.09567086j]\n"
     ]
    }
   ],
   "source": [
    "nn = 4\n",
    "for i in range(2**nn):\n",
    "    print(i)\n",
    "    print(np.around(build_fft(nn)(i), 8))\n",
    "    print(np.around(build_n_qubit_fft(nn)(i), 8))\n",
    "    "
   ]
  },
  {
   "cell_type": "markdown",
   "id": "fad01a6e-9b3b-4996-ad05-e6e386c1b6c8",
   "metadata": {},
   "source": [
    "# Recursive QFT"
   ]
  },
  {
   "cell_type": "code",
   "execution_count": 119,
   "id": "1c183ac7-de3b-4b09-a9ab-d6f837391f8b",
   "metadata": {},
   "outputs": [],
   "source": [
    "def build_recursive_n_qubit_fft(n_bits):\n",
    "    \n",
    "    def omega(k):\n",
    "        return 2.0*np.pi/(2**k)\n",
    "    \n",
    "    def qft_recursive_rotations(n_qubits, wire=0):\n",
    "        \"\"\"A circuit that performs the QFT rotations on the specified qubits\n",
    "            recursively.\n",
    "\n",
    "        Args:\n",
    "            n_qubits (int): An integer value identifying the number of qubits.\n",
    "            wire (int): An integer identifying the wire \n",
    "                        (or the qubit) to apply rotations on.\n",
    "        \"\"\"\n",
    "\n",
    "        ##################\n",
    "        # YOUR CODE HERE #\n",
    "        ################## \n",
    "        print(f'H wires {wire}')\n",
    "        qml.Hadamard(wires=wire)\n",
    "        for i, w in enumerate(range(wire+1, n_qubits)):\n",
    "            k = i+2\n",
    "            print(f'i:{i}, w:{w}, k:{k}, rot({omega(k)}) control {w} on {wire}')\n",
    "            qml.ctrl(qml.PhaseShift, control=w)(omega(k), wires=wire)\n",
    "            \n",
    "        if wire + 1 < n_qubits:\n",
    "            qft_recursive_rotations(n_qubits, wire + 1)\n",
    "\n",
    "\n",
    "    dev = qml.device(\"default.qubit\", wires=n_bits)\n",
    "    @qml.qnode(dev)\n",
    "    def fft_circuit(basis_id):\n",
    "        if type(basis_id) == type(0):\n",
    "            bits = [int(x) for x in np.binary_repr(basis_id, width=dev.num_wires)]\n",
    "        elif type(basis_id) == type('0'):\n",
    "            bits = [int(x) for x in basis_id]\n",
    "        \n",
    "        qml.BasisStatePreparation(bits, wires=range(dev.num_wires))\n",
    "        \n",
    "        qft_recursive_rotations(n_bits)\n",
    "            \n",
    "        for w in range(n_bits//2):\n",
    "            qml.SWAP(wires=[w,n_bits-w-1])\n",
    "        \n",
    "        return qml.state()\n",
    "    \n",
    "    return fft_circuit"
   ]
  },
  {
   "cell_type": "code",
   "execution_count": 122,
   "id": "fda783c9-de16-4b60-a5af-9aa60f82d52e",
   "metadata": {},
   "outputs": [
    {
     "name": "stdout",
     "output_type": "stream",
     "text": [
      "H wires 0\n",
      "i:0, w:1, k:2, rot(1.5707963267948966) control 1 on 0\n",
      "i:1, w:2, k:3, rot(0.7853981633974483) control 2 on 0\n",
      "i:2, w:3, k:4, rot(0.39269908169872414) control 3 on 0\n",
      "H wires 1\n",
      "i:0, w:2, k:2, rot(1.5707963267948966) control 2 on 1\n",
      "i:1, w:3, k:3, rot(0.7853981633974483) control 3 on 1\n",
      "H wires 2\n",
      "i:0, w:3, k:2, rot(1.5707963267948966) control 3 on 2\n",
      "H wires 3\n"
     ]
    },
    {
     "data": {
      "text/plain": [
       "tensor([ 0.25      +0.j        ,  0.23096988+0.09567086j,\n",
       "         0.1767767 +0.1767767j ,  0.09567086+0.23096988j,\n",
       "         0.        +0.25j      , -0.09567086+0.23096988j,\n",
       "        -0.1767767 +0.1767767j , -0.23096988+0.09567086j,\n",
       "        -0.25      +0.j        , -0.23096988-0.09567086j,\n",
       "        -0.1767767 -0.1767767j , -0.09567086-0.23096988j,\n",
       "        -0.        -0.25j      ,  0.09567086-0.23096988j,\n",
       "         0.1767767 -0.1767767j ,  0.23096988-0.09567086j], requires_grad=True)"
      ]
     },
     "execution_count": 122,
     "metadata": {},
     "output_type": "execute_result"
    }
   ],
   "source": [
    "np.around(build_recursive_n_qubit_fft(4)(1), 8)"
   ]
  },
  {
   "cell_type": "code",
   "execution_count": 124,
   "id": "d27ca7f0-7597-4a25-a31b-f08cce09061a",
   "metadata": {},
   "outputs": [
    {
     "data": {
      "text/plain": [
       "tensor([ 0.25      +0.j        ,  0.23096988+0.09567086j,\n",
       "         0.1767767 +0.1767767j ,  0.09567086+0.23096988j,\n",
       "        -0.        +0.25j      , -0.09567086+0.23096988j,\n",
       "        -0.1767767 +0.1767767j , -0.23096988+0.09567086j,\n",
       "        -0.25      -0.j        , -0.23096988-0.09567086j,\n",
       "        -0.1767767 -0.1767767j , -0.09567086-0.23096988j,\n",
       "         0.        -0.25j      ,  0.09567086-0.23096988j,\n",
       "         0.1767767 -0.1767767j ,  0.23096988-0.09567086j], requires_grad=True)"
      ]
     },
     "execution_count": 124,
     "metadata": {},
     "output_type": "execute_result"
    }
   ],
   "source": [
    "np.around(build_fft(4)(1), 8)"
   ]
  },
  {
   "cell_type": "code",
   "execution_count": null,
   "id": "264473b8-ac9e-4d99-9915-c0a1017b12a0",
   "metadata": {},
   "outputs": [],
   "source": [
    "nn = 4\n",
    "for i in range(2**nn):\n",
    "    print(i)\n",
    "    print(np.around(build_fft(nn)(i), 8))\n",
    "    print(np.around(build_n_qubit_fft(nn)(i), 8))\n",
    "    "
   ]
  }
 ],
 "metadata": {
  "kernelspec": {
   "display_name": "Python 3 (ipykernel)",
   "language": "python",
   "name": "python3"
  },
  "language_info": {
   "codemirror_mode": {
    "name": "ipython",
    "version": 3
   },
   "file_extension": ".py",
   "mimetype": "text/x-python",
   "name": "python",
   "nbconvert_exporter": "python",
   "pygments_lexer": "ipython3",
   "version": "3.9.7"
  }
 },
 "nbformat": 4,
 "nbformat_minor": 5
}
